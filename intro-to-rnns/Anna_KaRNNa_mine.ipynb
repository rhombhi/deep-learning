{
 "cells": [
  {
   "cell_type": "markdown",
   "metadata": {},
   "source": [
    "# Anna KaRNNa\n",
    "\n",
    "In this notebook, we'll build a character-wise RNN trained on Anna Karenina, one of my all-time favorite books. It'll be able to generate new text based on the text from the book.\n",
    "\n",
    "This network is based off of Andrej Karpathy's [post on RNNs](http://karpathy.github.io/2015/05/21/rnn-effectiveness/) and [implementation in Torch](https://github.com/karpathy/char-rnn). Also, some information [here at r2rt](http://r2rt.com/recurrent-neural-networks-in-tensorflow-ii.html) and from [Sherjil Ozair](https://github.com/sherjilozair/char-rnn-tensorflow) on GitHub. Below is the general architecture of the character-wise RNN.\n",
    "\n",
    "<img src=\"assets/charseq.jpeg\" width=\"500\">"
   ]
  },
  {
   "cell_type": "code",
   "execution_count": 126,
   "metadata": {},
   "outputs": [],
   "source": [
    "import time \n",
    "import numpy as np\n",
    "import tensorflow as tf"
   ]
  },
  {
   "cell_type": "markdown",
   "metadata": {},
   "source": [
    "First we'll load the text file and convert it into integers for our network to use. Here I'm creating a couple dictionaries to convert the characters to and from integers. Encoding the characters as integers makes it easier to use as input in the network."
   ]
  },
  {
   "cell_type": "code",
   "execution_count": 2,
   "metadata": {},
   "outputs": [
    {
     "name": "stdout",
     "output_type": "stream",
     "text": [
      "{0: '\\n', 1: ' ', 2: '!', 3: '\"', 4: '$', 5: '%', 6: '&', 7: \"'\", 8: '(', 9: ')', 10: '*', 11: ',', 12: '-', 13: '.', 14: '/', 15: '0', 16: '1', 17: '2', 18: '3', 19: '4', 20: '5', 21: '6', 22: '7', 23: '8', 24: '9', 25: ':', 26: ';', 27: '?', 28: '@', 29: 'A', 30: 'B', 31: 'C', 32: 'D', 33: 'E', 34: 'F', 35: 'G', 36: 'H', 37: 'I', 38: 'J', 39: 'K', 40: 'L', 41: 'M', 42: 'N', 43: 'O', 44: 'P', 45: 'Q', 46: 'R', 47: 'S', 48: 'T', 49: 'U', 50: 'V', 51: 'W', 52: 'X', 53: 'Y', 54: 'Z', 55: '_', 56: '`', 57: 'a', 58: 'b', 59: 'c', 60: 'd', 61: 'e', 62: 'f', 63: 'g', 64: 'h', 65: 'i', 66: 'j', 67: 'k', 68: 'l', 69: 'm', 70: 'n', 71: 'o', 72: 'p', 73: 'q', 74: 'r', 75: 's', 76: 't', 77: 'u', 78: 'v', 79: 'w', 80: 'x', 81: 'y', 82: 'z'}\n",
      "[31 64 57 ... 75 13  0]\n"
     ]
    }
   ],
   "source": [
    "with open('anna.txt', 'r') as f:\n",
    "    text = f.read()\n",
    "vocab = sorted(set(text))\n",
    "vocab_to_int = {c:i for (i,c) in enumerate(vocab)}\n",
    "int_to_vocab = {i:c for (i,c) in enumerate(vocab)}\n",
    "print(int_to_vocab)\n",
    "encoded = np.array([vocab_to_int[c] for c in text], np.int32)\n",
    "print(encoded)"
   ]
  },
  {
   "cell_type": "code",
   "execution_count": 3,
   "metadata": {},
   "outputs": [],
   "source": [
    "# int_to_vocab = dict(enumerate(vocab))\n",
    "# print(int_to_vocab)"
   ]
  },
  {
   "cell_type": "markdown",
   "metadata": {},
   "source": [
    "Let's check out the first 100 characters, make sure everything is peachy. According to the [American Book Review](http://americanbookreview.org/100bestlines.asp), this is the 6th best first line of a book ever."
   ]
  },
  {
   "cell_type": "code",
   "execution_count": 4,
   "metadata": {},
   "outputs": [
    {
     "data": {
      "text/plain": [
       "'Chapter 1\\n\\n\\nHappy families are all alike; every unhappy family is unhappy in its own\\nway.\\n\\nEverythin'"
      ]
     },
     "execution_count": 4,
     "metadata": {},
     "output_type": "execute_result"
    }
   ],
   "source": [
    "text[:100]"
   ]
  },
  {
   "cell_type": "markdown",
   "metadata": {},
   "source": [
    "And we can see the characters encoded as integers."
   ]
  },
  {
   "cell_type": "code",
   "execution_count": 5,
   "metadata": {},
   "outputs": [
    {
     "data": {
      "text/plain": [
       "array([31, 64, 57, 72, 76, 61, 74,  1, 16,  0,  0,  0, 36, 57, 72, 72, 81,\n",
       "        1, 62, 57, 69, 65, 68, 65, 61, 75,  1, 57, 74, 61,  1, 57, 68, 68,\n",
       "        1, 57, 68, 65, 67, 61, 26,  1, 61, 78, 61, 74, 81,  1, 77, 70, 64,\n",
       "       57, 72, 72, 81,  1, 62, 57, 69, 65, 68, 81,  1, 65, 75,  1, 77, 70,\n",
       "       64, 57, 72, 72, 81,  1, 65, 70,  1, 65, 76, 75,  1, 71, 79, 70,  0,\n",
       "       79, 57, 81, 13,  0,  0, 33, 78, 61, 74, 81, 76, 64, 65, 70],\n",
       "      dtype=int32)"
      ]
     },
     "execution_count": 5,
     "metadata": {},
     "output_type": "execute_result"
    }
   ],
   "source": [
    "encoded[:100]"
   ]
  },
  {
   "cell_type": "markdown",
   "metadata": {},
   "source": [
    "Since the network is working with individual characters, it's similar to a classification problem in which we are trying to predict the next character from the previous text.  Here's how many 'classes' our network has to pick from."
   ]
  },
  {
   "cell_type": "code",
   "execution_count": 6,
   "metadata": {},
   "outputs": [
    {
     "data": {
      "text/plain": [
       "83"
      ]
     },
     "execution_count": 6,
     "metadata": {},
     "output_type": "execute_result"
    }
   ],
   "source": [
    "len(vocab)"
   ]
  },
  {
   "cell_type": "markdown",
   "metadata": {},
   "source": [
    "## Making training mini-batches\n",
    "\n",
    "Here is where we'll make our mini-batches for training. Remember that we want our batches to be multiple sequences of some desired number of sequence steps. Considering a simple example, our batches would look like this:\n",
    "\n",
    "<img src=\"assets/sequence_batching@1x.png\" width=500px>\n",
    "\n",
    "\n",
    "<br>\n",
    "\n",
    "We start with our text encoded as integers in one long array in `encoded`. Let's create a function that will give us an iterator for our batches. I like using [generator functions](https://jeffknupp.com/blog/2013/04/07/improve-your-python-yield-and-generators-explained/) to do this. Then we can pass `encoded` into this function and get our batch generator.\n",
    "\n",
    "The first thing we need to do is discard some of the text so we only have completely full batches. Each batch contains $N \\times M$ characters, where $N$ is the batch size (the number of sequences) and $M$ is the number of steps. Then, to get the total number of batches, $K$, we can make from the array `arr`, you divide the length of `arr` by the number of characters per batch. Once you know the number of batches, you can get the total number of characters to keep from `arr`, $N * M * K$.\n",
    "\n",
    "After that, we need to split `arr` into $N$ sequences. You can do this using `arr.reshape(size)` where `size` is a tuple containing the dimensions sizes of the reshaped array. We know we want $N$ sequences (`batch_size` below), let's make that the size of the first dimension. For the second dimension, you can use `-1` as a placeholder in the size, it'll fill up the array with the appropriate data for you. After this, you should have an array that is $N \\times (M * K)$.\n",
    "\n",
    "Now that we have this array, we can iterate through it to get our batches. The idea is each batch is a $N \\times M$ window on the $N \\times (M * K)$ array. For each subsequent batch, the window moves over by `n_steps`. We also want to create both the input and target arrays. Remember that the targets are the inputs shifted over one character. \n",
    "\n",
    "The way I like to do this window is use `range` to take steps of size `n_steps` from $0$ to `arr.shape[1]`, the total number of steps in each sequence. That way, the integers you get from `range` always point to the start of a batch, and each window is `n_steps` wide.\n",
    "\n",
    "> **Exercise:** Write the code for creating batches in the function below. The exercises in this notebook _will not be easy_. I've provided a notebook with solutions alongside this notebook. If you get stuck, checkout the solutions. The most important thing is that you don't copy and paste the code into here, **type out the solution code yourself.**"
   ]
  },
  {
   "cell_type": "code",
   "execution_count": 88,
   "metadata": {},
   "outputs": [],
   "source": [
    "def get_batches(arr, batch_size, n_steps):\n",
    "    '''Create a generator that returns batches of size\n",
    "       batch_size x n_steps from arr.\n",
    "       \n",
    "       Arguments\n",
    "       ---------\n",
    "       arr: Array you want to make batches from\n",
    "       batch_size: Batch size, the number of sequences per batch\n",
    "       n_steps: Number of sequence steps per batch\n",
    "    '''\n",
    "    # Get the number of characters per batch and number of batches we can make\n",
    "    characters_per_batch = batch_size * n_steps\n",
    "    n_batches = int(np.floor(len(arr)/characters_per_batch))\n",
    "#     n_batches = len(arr)//characters_per_batch\n",
    "    \n",
    "    # Keep only enough characters to make full batches\n",
    "    arr = arr[:n_batches * batch_size * n_steps]\n",
    "    \n",
    "    # Reshape into batch_size rows\n",
    "    arr = arr.reshape((batch_size, -1))\n",
    "    \n",
    "    for n in range(0, arr.shape[1], n_steps):\n",
    "        # The features\n",
    "        x = arr[:, n:n+n_steps]\n",
    "        # The targets, shifted by one\n",
    "        \n",
    "        # Method 1 : As in solution video - append arr[0] at the end\n",
    "        y = np.zeros_like(x)\n",
    "        y[:,:-1],y[:,-1]  = x[:,1:],x[:,0]\n",
    "        \n",
    "        # Method 2: gives same result as method 1, just detected the last \n",
    "        # batch manually to append arr[0] at the end\n",
    "#         if n==(arr.shape[1]-n_steps):\n",
    "#             y[:,:-1],y[:,-1] = arr[:, n+1:n+n_steps], arr[:,0]\n",
    "#         else:\n",
    "#             y = arr[:, n+1:n+n_steps+1]\n",
    "\n",
    "        # Method 3: As in solution notebook - add 0 at the end\n",
    "#         y_temp = arr[:, n+1:n+n_steps+1]\n",
    "#         y = np.zeros(x.shape, dtype=x.dtype)\n",
    "#         y[:,:y_temp.shape[1]] = y_temp\n",
    "        \n",
    "        yield x, y"
   ]
  },
  {
   "cell_type": "code",
   "execution_count": null,
   "metadata": {},
   "outputs": [],
   "source": []
  },
  {
   "cell_type": "markdown",
   "metadata": {},
   "source": [
    "Now I'll make my data sets and we can check out what's going on here. Here I'm going to use a batch size of 10 and 50 sequence steps."
   ]
  },
  {
   "cell_type": "code",
   "execution_count": 89,
   "metadata": {},
   "outputs": [
    {
     "data": {
      "text/plain": [
       "1985223"
      ]
     },
     "execution_count": 89,
     "metadata": {},
     "output_type": "execute_result"
    }
   ],
   "source": [
    "len(encoded)"
   ]
  },
  {
   "cell_type": "code",
   "execution_count": 90,
   "metadata": {},
   "outputs": [
    {
     "name": "stdout",
     "output_type": "stream",
     "text": [
      "x\n",
      " [[31  1]\n",
      " [ 1 75]\n",
      " [78 64]\n",
      " [70 70]\n",
      " [ 1 64]\n",
      " [ 1 61]\n",
      " [64 11]\n",
      " [26 65]\n",
      " [76 65]\n",
      " [ 1 63]]\n",
      "x\n",
      " [[68 81 13  0  0  3 42 71 11  1 37]\n",
      " [27  3  1 57 75 67 61 60  1 40 61]\n",
      " [75 71 74 58 61 60  1 40 61 78 65]\n",
      " [ 1 76 64 57 76  7 75  1 64 71 79]\n",
      " [ 1 64 61 74  1 72 68 57 59 61 13]\n",
      " [26  0 63 71 11  1 57 70 60  1 76]\n",
      " [74 58 65 60 60 61 70  1 64 61 74]\n",
      " [ 1 70 71 58 65 68 65 76 81  1 65]\n",
      " [81 75 61 68 62 27  3  0 75 64 61]\n",
      " [65 70 62 71 74 69 57 76 65 71 70]]\n",
      "\n",
      "y\n",
      " [[81 13  0  0  3 42 71 11  1 37 31]\n",
      " [ 3  1 57 75 67 61 60  1 40 61  1]\n",
      " [71 74 58 61 60  1 40 61 78 65 78]\n",
      " [76 64 57 76  7 75  1 64 71 79 70]\n",
      " [64 61 74  1 72 68 57 59 61 13  1]\n",
      " [ 0 63 71 11  1 57 70 60  1 76  1]\n",
      " [58 65 60 60 61 70  1 64 61 74 64]\n",
      " [70 71 58 65 68 65 76 81  1 65 26]\n",
      " [75 61 68 62 27  3  0 75 64 61 76]\n",
      " [70 62 71 74 69 57 76 65 71 70  1]]\n"
     ]
    }
   ],
   "source": [
    "batches = get_batches(encoded, 10, 50)\n",
    "\n",
    "# To get the last batch\n",
    "x,y = next(batches)\n",
    "for x,y in batches:\n",
    "    pass\n",
    "\n",
    "# To print last batch to validate x[0] becomes is added at the end\n",
    "print('x\\n', x[:10, :2])\n",
    "print('x\\n', x[:10, -11:])\n",
    "print('\\ny\\n', y[:10, -11:])"
   ]
  },
  {
   "cell_type": "code",
   "execution_count": 91,
   "metadata": {},
   "outputs": [],
   "source": [
    "batches = get_batches(encoded, 10, 50)\n",
    "x,y = next(batches)"
   ]
  },
  {
   "cell_type": "code",
   "execution_count": 92,
   "metadata": {},
   "outputs": [
    {
     "name": "stdout",
     "output_type": "stream",
     "text": [
      "x\n",
      " [[31 64 57 72 76 61 74  1 16  0  0]\n",
      " [ 1 57 69  1 70 71 76  1 63 71 65]\n",
      " [78 65 70 13  0  0  3 53 61 75 11]\n",
      " [70  1 60 77 74 65 70 63  1 64 65]\n",
      " [ 1 65 76  1 65 75 11  1 75 65 74]\n",
      " [ 1 37 76  1 79 57 75  0 71 70 68]\n",
      " [64 61 70  1 59 71 69 61  1 62 71]\n",
      " [26  1 58 77 76  1 70 71 79  1 75]\n",
      " [76  1 65 75 70  7 76 13  1 48 64]\n",
      " [ 1 75 57 65 60  1 76 71  1 64 61]]\n",
      "\n",
      "y\n",
      " [[64 57 72 76 61 74  1 16  0  0]\n",
      " [57 69  1 70 71 76  1 63 71 65]\n",
      " [65 70 13  0  0  3 53 61 75 11]\n",
      " [ 1 60 77 74 65 70 63  1 64 65]\n",
      " [65 76  1 65 75 11  1 75 65 74]\n",
      " [37 76  1 79 57 75  0 71 70 68]\n",
      " [61 70  1 59 71 69 61  1 62 71]\n",
      " [ 1 58 77 76  1 70 71 79  1 75]\n",
      " [ 1 65 75 70  7 76 13  1 48 64]\n",
      " [75 57 65 60  1 76 71  1 64 61]]\n"
     ]
    }
   ],
   "source": [
    "print('x\\n', x[:10, :11])\n",
    "print('\\ny\\n', y[:10, :10])"
   ]
  },
  {
   "cell_type": "markdown",
   "metadata": {},
   "source": [
    "If you implemented `get_batches` correctly, the above output should look something like \n",
    "```\n",
    "x\n",
    " [[55 63 69 22  6 76 45  5 16 35]\n",
    " [ 5 69  1  5 12 52  6  5 56 52]\n",
    " [48 29 12 61 35 35  8 64 76 78]\n",
    " [12  5 24 39 45 29 12 56  5 63]\n",
    " [ 5 29  6  5 29 78 28  5 78 29]\n",
    " [ 5 13  6  5 36 69 78 35 52 12]\n",
    " [63 76 12  5 18 52  1 76  5 58]\n",
    " [34  5 73 39  6  5 12 52 36  5]\n",
    " [ 6  5 29 78 12 79  6 61  5 59]\n",
    " [ 5 78 69 29 24  5  6 52  5 63]]\n",
    "\n",
    "y\n",
    " [[63 69 22  6 76 45  5 16 35 35]\n",
    " [69  1  5 12 52  6  5 56 52 29]\n",
    " [29 12 61 35 35  8 64 76 78 28]\n",
    " [ 5 24 39 45 29 12 56  5 63 29]\n",
    " [29  6  5 29 78 28  5 78 29 45]\n",
    " [13  6  5 36 69 78 35 52 12 43]\n",
    " [76 12  5 18 52  1 76  5 58 52]\n",
    " [ 5 73 39  6  5 12 52 36  5 78]\n",
    " [ 5 29 78 12 79  6 61  5 59 63]\n",
    " [78 69 29 24  5  6 52  5 63 76]]\n",
    " ```\n",
    " although the exact numbers will be different. Check to make sure the data is shifted over one step for `y`."
   ]
  },
  {
   "cell_type": "markdown",
   "metadata": {},
   "source": [
    "## Building the model\n",
    "\n",
    "Below is where you'll build the network. We'll break it up into parts so it's easier to reason about each bit. Then we can connect them up into the whole network.\n",
    "\n",
    "<img src=\"assets/charRNN.png\" width=500px>\n",
    "\n",
    "\n",
    "### Inputs\n",
    "\n",
    "First off we'll create our input placeholders. As usual we need placeholders for the training data and the targets. We'll also create a placeholder for dropout layers called `keep_prob`. This will be a scalar, that is a 0-D tensor. To make a scalar, you create a placeholder without giving it a size.\n",
    "\n",
    "> **Exercise:** Create the input placeholders in the function below."
   ]
  },
  {
   "cell_type": "code",
   "execution_count": 96,
   "metadata": {},
   "outputs": [
    {
     "data": {
      "text/plain": [
       "(1985223,)"
      ]
     },
     "execution_count": 96,
     "metadata": {},
     "output_type": "execute_result"
    }
   ],
   "source": [
    "encoded.shape"
   ]
  },
  {
   "cell_type": "code",
   "execution_count": 97,
   "metadata": {},
   "outputs": [],
   "source": [
    "def build_inputs(batch_size, num_steps):\n",
    "    ''' Define placeholders for inputs, targets, and dropout \n",
    "    \n",
    "        Arguments\n",
    "        ---------\n",
    "        batch_size: Batch size, number of sequences per batch\n",
    "        num_steps: Number of sequence steps in a batch\n",
    "        \n",
    "    '''\n",
    "    # Declare placeholders we'll feed into the graph\n",
    "    inputs = tf.placeholder(tf.int32, (batch_size, num_steps) )\n",
    "    targets = tf.placeholder(tf.int32, (batch_size, num_steps))\n",
    "    \n",
    "    # Keep probability placeholder for drop out layers\n",
    "    keep_prob = tf.placeholder(tf.float32)\n",
    "    \n",
    "    return inputs, targets, keep_prob"
   ]
  },
  {
   "cell_type": "markdown",
   "metadata": {},
   "source": [
    "### LSTM Cell\n",
    "\n",
    "Here we will create the LSTM cell we'll use in the hidden layer. We'll use this cell as a building block for the RNN. So we aren't actually defining the RNN here, just the type of cell we'll use in the hidden layer.\n",
    "\n",
    "We first create a basic LSTM cell with\n",
    "\n",
    "```python\n",
    "lstm = tf.contrib.rnn.BasicLSTMCell(num_units)\n",
    "```\n",
    "\n",
    "where `num_units` is the number of units in the hidden layers in the cell. Then we can add dropout by wrapping it with \n",
    "\n",
    "```python\n",
    "tf.contrib.rnn.DropoutWrapper(lstm, output_keep_prob=keep_prob)\n",
    "```\n",
    "You pass in a cell and it will automatically add dropout to the inputs or outputs. Finally, we can stack up the LSTM cells into layers with [`tf.contrib.rnn.MultiRNNCell`](https://www.tensorflow.org/versions/r1.0/api_docs/python/tf/contrib/rnn/MultiRNNCell). With this, you pass in a list of cells and it will send the output of one cell into the next cell. Previously with TensorFlow 1.0, you could do this\n",
    "\n",
    "```python\n",
    "tf.contrib.rnn.MultiRNNCell([cell]*num_layers)\n",
    "```\n",
    "\n",
    "This might look a little weird if you know Python well because this will create a list of the same `cell` object. However, TensorFlow 1.0 will create different weight matrices for all `cell` objects. But, starting with TensorFlow 1.1 you actually need to create new cell objects in the list. To get it to work in TensorFlow 1.1, it should look like\n",
    "\n",
    "```python\n",
    "def build_cell(num_units, keep_prob):\n",
    "    lstm = tf.contrib.rnn.BasicLSTMCell(num_units)\n",
    "    drop = tf.contrib.rnn.DropoutWrapper(lstm, output_keep_prob=keep_prob)\n",
    "    \n",
    "    return drop\n",
    "    \n",
    "tf.contrib.rnn.MultiRNNCell([build_cell(num_units, keep_prob) for _ in range(num_layers)])\n",
    "```\n",
    "\n",
    "Even though this is actually multiple LSTM cells stacked on each other, you can treat the multiple layers as one cell.\n",
    "\n",
    "We also need to create an initial cell state of all zeros. This can be done like so\n",
    "\n",
    "```python\n",
    "initial_state = cell.zero_state(batch_size, tf.float32)\n",
    "```\n",
    "\n",
    "Below, we implement the `build_lstm` function to create these LSTM cells and the initial state."
   ]
  },
  {
   "cell_type": "code",
   "execution_count": 95,
   "metadata": {},
   "outputs": [],
   "source": [
    "def build_lstm(lstm_size, num_layers, batch_size, keep_prob):\n",
    "    ''' Build LSTM cell.\n",
    "    \n",
    "        Arguments\n",
    "        ---------\n",
    "        keep_prob: Scalar tensor (tf.placeholder) for the dropout keep probability\n",
    "        lstm_size: Size of the hidden layers in the LSTM cells\n",
    "        num_layers: Number of LSTM layers\n",
    "        batch_size: Batch size\n",
    "\n",
    "    '''\n",
    "    ### Build the LSTM Cell\n",
    "    def build_cell(lstm_size, keep_prob):\n",
    "        # Use a basic LSTM cell\n",
    "        lstm = tf.contrib.rnn.BasicLSTMCell(lstm_size)    \n",
    "        # Add dropout to the cell outputs\n",
    "        drop = tf.contrib.rnn.DropoutWrapper(lstm, output_keep_prob=keep_prob)\n",
    "        return drop\n",
    "    \n",
    "    # Stack up multiple LSTM layers, for deep learning\n",
    "    cell = tf.contrib.rnn.MultiRNNCell([build_cell(lstm_size, keep_prob) for _ in range(num_layers)])\n",
    "    initial_state = cell.zero_state(batch_size, tf.float32)\n",
    "    \n",
    "    return cell, initial_state"
   ]
  },
  {
   "cell_type": "markdown",
   "metadata": {},
   "source": [
    "### RNN Output\n",
    "\n",
    "Here we'll create the output layer. We need to connect the output of the RNN cells to a full connected layer with a softmax output. The softmax output gives us a probability distribution we can use to predict the next character, so we want this layer to have size $C$, the number of classes/characters we have in our text.\n",
    "\n",
    "If our input has batch size $N$, number of steps $M$, and the hidden layer has $L$ hidden units, then the output is a 3D tensor with size $N \\times M \\times L$. The output of each LSTM cell has size $L$, we have $M$ of them, one for each sequence step, and we have $N$ sequences. So the total size is $N \\times M \\times L$. \n",
    "\n",
    "We are using the same fully connected layer, the same weights, for each of the outputs. Then, to make things easier, we should reshape the outputs into a 2D tensor with shape $(M * N) \\times L$. That is, one row for each sequence and step, where the values of each row are the output from the LSTM cells. We get the LSTM output as a list, `lstm_output`. First we need to concatenate this whole list into one array with [`tf.concat`](https://www.tensorflow.org/api_docs/python/tf/concat). Then, reshape it (with `tf.reshape`) to size $(M * N) \\times L$.\n",
    "\n",
    "One we have the outputs reshaped, we can do the matrix multiplication with the weights. We need to wrap the weight and bias variables in a variable scope with `tf.variable_scope(scope_name)` because there are weights being created in the LSTM cells. TensorFlow will throw an error if the weights created here have the same names as the weights created in the LSTM cells, which they will be default. To avoid this, we wrap the variables in a variable scope so we can give them unique names.\n",
    "\n",
    "> **Exercise:** Implement the output layer in the function below."
   ]
  },
  {
   "cell_type": "code",
   "execution_count": 98,
   "metadata": {},
   "outputs": [],
   "source": [
    "def build_output(lstm_output, in_size, out_size):\n",
    "    ''' Build a softmax layer, return the softmax output and logits.\n",
    "    \n",
    "        Arguments\n",
    "        ---------\n",
    "        \n",
    "        lstm_output: List of output tensors from the LSTM layer\n",
    "        in_size: Size of the input tensor, for example, size of the LSTM cells\n",
    "        out_size: Size of this softmax layer\n",
    "    \n",
    "    '''\n",
    "\n",
    "    # Reshape output so it's a bunch of rows, one row for each step for each sequence.\n",
    "    # Concatenate lstm_output over axis 1 (the columns)\n",
    "    seq_output = tf.concat(lstm_output, axis=1)\n",
    "    # Reshape seq_output to a 2D tensor with lstm_size columns\n",
    "    x = tf.reshape(seq_output, (-1, in_size))\n",
    "    \n",
    "    # Connect the RNN outputs to a softmax layer\n",
    "    with tf.variable_scope('softmax'):\n",
    "        # Create the weight and bias variables here\n",
    "        softmax_w = tf.Variable(tf.truncated_normal((in_size, out_size), stddev=0.1))\n",
    "        softmax_b = tf.Variable(tf.zeros(out_size))\n",
    "    \n",
    "    # Since output is a bunch of rows of RNN cell outputs, logits will be a bunch\n",
    "    # of rows of logit outputs, one for each step and sequence\n",
    "    logits = tf.matmul(x, softmax_w) + softmax_b\n",
    "    \n",
    "    # Use softmax to get the probabilities for predicted characters\n",
    "    out = tf.nn.softmax(logits)\n",
    "    \n",
    "    return out, logits"
   ]
  },
  {
   "cell_type": "markdown",
   "metadata": {},
   "source": [
    "### Training loss\n",
    "\n",
    "Next up is the training loss. We get the logits and targets and calculate the softmax cross-entropy loss. First we need to one-hot encode the targets, we're getting them as encoded characters. Then, reshape the one-hot targets so it's a 2D tensor with size $(M*N) \\times C$ where $C$ is the number of classes/characters we have. Remember that we reshaped the LSTM outputs and ran them through a fully connected layer with $C$ units. So our logits will also have size $(M*N) \\times C$.\n",
    "\n",
    "Then we run the logits and targets through `tf.nn.softmax_cross_entropy_with_logits` and find the mean to get the loss.\n",
    "\n",
    ">**Exercise:** Implement the loss calculation in the function below."
   ]
  },
  {
   "cell_type": "code",
   "execution_count": 117,
   "metadata": {},
   "outputs": [],
   "source": [
    "def build_loss(logits, targets, lstm_size, num_classes):\n",
    "    ''' Calculate the loss from the logits and the targets.\n",
    "    \n",
    "        Arguments\n",
    "        ---------\n",
    "        logits: Logits from final fully connected layer\n",
    "        targets: Targets for supervised learning\n",
    "        lstm_size: Number of LSTM hidden units\n",
    "        num_classes: Number of classes in targets\n",
    "        \n",
    "    '''\n",
    "    \n",
    "    # One-hot encode targets and reshape to match logits, one row per sequence per step\n",
    "    y_one_hot = tf.one_hot(targets, num_classes)\n",
    "    y_reshaped = tf.reshape(y_one_hot, (-1, num_classes))\n",
    "    \n",
    "    # Softmax cross entropy loss\n",
    "    loss = tf.nn.softmax_cross_entropy_with_logits(logits=logits, labels=y_reshaped)\n",
    "    loss = tf.reduce_mean(loss)\n",
    "    return loss"
   ]
  },
  {
   "cell_type": "markdown",
   "metadata": {},
   "source": [
    "### Optimizer\n",
    "\n",
    "Here we build the optimizer. Normal RNNs have have issues gradients exploding and disappearing. LSTMs fix the disappearance problem, but the gradients can still grow without bound. To fix this, we can clip the gradients above some threshold. That is, if a gradient is larger than that threshold, we set it to the threshold. This will ensure the gradients never grow overly large. Then we use an AdamOptimizer for the learning step."
   ]
  },
  {
   "cell_type": "code",
   "execution_count": 122,
   "metadata": {},
   "outputs": [],
   "source": [
    "def build_optimizer(loss, learning_rate, grad_clip):\n",
    "    tvars = tf.trainable_variables()\n",
    "    grads, _ = tf.clip_by_global_norm(tf.gradients(loss, tvars), grad_clip)\n",
    "    train_op = tf.train.AdamOptimizer(learning_rate)\n",
    "    optimizer = train_op.apply_gradients(zip(grads, tvars))\n",
    "    \n",
    "    return optimizer"
   ]
  },
  {
   "cell_type": "markdown",
   "metadata": {},
   "source": [
    "### Build the network\n",
    "\n",
    "Now we can put all the pieces together and build a class for the network. To actually run data through the LSTM cells, we will use [`tf.nn.dynamic_rnn`](https://www.tensorflow.org/versions/r1.0/api_docs/python/tf/nn/dynamic_rnn). This function will pass the hidden and cell states across LSTM cells appropriately for us. It returns the outputs for each LSTM cell at each step for each sequence in the mini-batch. It also gives us the final LSTM state. We want to save this state as `final_state` so we can pass it to the first LSTM cell in the the next mini-batch run. For `tf.nn.dynamic_rnn`, we pass in the cell and initial state we get from `build_lstm`, as well as our input sequences. Also, we need to one-hot encode the inputs before going into the RNN. \n",
    "\n",
    "> **Exercise:** Use the functions you've implemented previously and `tf.nn.dynamic_rnn` to build the network."
   ]
  },
  {
   "cell_type": "code",
   "execution_count": 123,
   "metadata": {},
   "outputs": [],
   "source": [
    "class CharRNN:\n",
    "    \n",
    "    def __init__(self, num_classes, batch_size=64, num_steps=50, \n",
    "                       lstm_size=128, num_layers=2, learning_rate=0.001, \n",
    "                       grad_clip=5, sampling=False):\n",
    "    \n",
    "        # When we're using this network for sampling later, we'll be passing in\n",
    "        # one character at a time, so providing an option for that\n",
    "        if sampling == True:\n",
    "            batch_size, num_steps = 1, 1\n",
    "        else:\n",
    "            batch_size, num_steps = batch_size, num_steps\n",
    "\n",
    "        tf.reset_default_graph()\n",
    "        \n",
    "        # Build the input placeholder tensors\n",
    "        self.inputs, self.targets, self.keep_prob = build_inputs(batch_size, num_steps)\n",
    "\n",
    "        # Build the LSTM cell\n",
    "        cell, self.initial_state = build_lstm(lstm_size, num_layers, batch_size, keep_prob)\n",
    "\n",
    "        ### Run the data through the RNN layers\n",
    "        # First, one-hot encode the input tokens\n",
    "        x_one_hot = tf.one_hot(self.inputs, num_classes)\n",
    "        \n",
    "        # Run each sequence step through the RNN with tf.nn.dynamic_rnn \n",
    "        outputs, state = tf.nn.dynamic_rnn(cell, x_one_hot, initial_state=self.initial_state)\n",
    "        self.final_state = state\n",
    "        \n",
    "        # Get softmax predictions and logits\n",
    "        self.prediction, self.logits = build_output(outputs, lstm_size, num_classes)\n",
    "        \n",
    "        # Loss and optimizer (with gradient clipping)\n",
    "        self.loss =  build_loss(self.logits, self.targets, lstm_size, num_classes)\n",
    "        self.optimizer = build_optimizer(self.loss, learning_rate, grad_clip)"
   ]
  },
  {
   "cell_type": "markdown",
   "metadata": {},
   "source": [
    "## Hyperparameters\n",
    "\n",
    "Here are the hyperparameters for the network.\n",
    "\n",
    "* `batch_size` - Number of sequences running through the network in one pass.\n",
    "* `num_steps` - Number of characters in the sequence the network is trained on. Larger is better typically, the network will learn more long range dependencies. But it takes longer to train. 100 is typically a good number here.\n",
    "* `lstm_size` - The number of units in the hidden layers.\n",
    "* `num_layers` - Number of hidden LSTM layers to use\n",
    "* `learning_rate` - Learning rate for training\n",
    "* `keep_prob` - The dropout keep probability when training. If you're network is overfitting, try decreasing this.\n",
    "\n",
    "Here's some good advice from Andrej Karpathy on training the network. I'm going to copy it in here for your benefit, but also link to [where it originally came from](https://github.com/karpathy/char-rnn#tips-and-tricks).\n",
    "\n",
    "> ## Tips and Tricks\n",
    "\n",
    ">### Monitoring Validation Loss vs. Training Loss\n",
    ">If you're somewhat new to Machine Learning or Neural Networks it can take a bit of expertise to get good models. The most important quantity to keep track of is the difference between your training loss (printed during training) and the validation loss (printed once in a while when the RNN is run on the validation data (by default every 1000 iterations)). In particular:\n",
    "\n",
    "> - If your training loss is much lower than validation loss then this means the network might be **overfitting**. Solutions to this are to decrease your network size, or to increase dropout. For example you could try dropout of 0.5 and so on.\n",
    "> - If your training/validation loss are about equal then your model is **underfitting**. Increase the size of your model (either number of layers or the raw number of neurons per layer)\n",
    "\n",
    "> ### Approximate number of parameters\n",
    "\n",
    "> The two most important parameters that control the model are `lstm_size` and `num_layers`. I would advise that you always use `num_layers` of either 2/3. The `lstm_size` can be adjusted based on how much data you have. The two important quantities to keep track of here are:\n",
    "\n",
    "> - The number of parameters in your model. This is printed when you start training.\n",
    "> - The size of your dataset. 1MB file is approximately 1 million characters.\n",
    "\n",
    ">These two should be about the same order of magnitude. It's a little tricky to tell. Here are some examples:\n",
    "\n",
    "> - I have a 100MB dataset and I'm using the default parameter settings (which currently print 150K parameters). My data size is significantly larger (100 mil >> 0.15 mil), so I expect to heavily underfit. I am thinking I can comfortably afford to make `lstm_size` larger.\n",
    "> - I have a 10MB dataset and running a 10 million parameter model. I'm slightly nervous and I'm carefully monitoring my validation loss. If it's larger than my training loss then I may want to try to increase dropout a bit and see if that helps the validation loss.\n",
    "\n",
    "> ### Best models strategy\n",
    "\n",
    ">The winning strategy to obtaining very good models (if you have the compute time) is to always err on making the network larger (as large as you're willing to wait for it to compute) and then try different dropout values (between 0,1). Whatever model has the best validation performance (the loss, written in the checkpoint filename, low is good) is the one you should use in the end.\n",
    "\n",
    ">It is very common in deep learning to run many different models with many different hyperparameter settings, and in the end take whatever checkpoint gave the best validation performance.\n",
    "\n",
    ">By the way, the size of your training and validation splits are also parameters. Make sure you have a decent amount of data in your validation set or otherwise the validation performance will be noisy and not very informative."
   ]
  },
  {
   "cell_type": "code",
   "execution_count": 209,
   "metadata": {},
   "outputs": [],
   "source": [
    "batch_size = 100         # Sequences per batch\n",
    "num_steps = 100          # Number of sequence steps per batch\n",
    "lstm_size = 512         # Size of hidden layers in LSTMs\n",
    "num_layers = 2          # Number of LSTM layers\n",
    "learning_rate = 0.001    # Learning rate\n",
    "keep_prob = 0.5         # Dropout keep probability"
   ]
  },
  {
   "cell_type": "markdown",
   "metadata": {},
   "source": [
    "## Time for training\n",
    "\n",
    "This is typical training code, passing inputs and targets into the network, then running the optimizer. Here we also get back the final LSTM state for the mini-batch. Then, we pass that state back into the network so the next batch can continue the state from the previous batch. And every so often (set by `save_every_n`) I save a checkpoint.\n",
    "\n",
    "Here I'm saving checkpoints with the format\n",
    "\n",
    "`i{iteration number}_l{# hidden layer units}.ckpt`\n",
    "\n",
    "> **Exercise:** Set the hyperparameters above to train the network. Watch the training loss, it should be consistently dropping. Also, I highly advise running this on a GPU."
   ]
  },
  {
   "cell_type": "code",
   "execution_count": 212,
   "metadata": {
    "scrolled": true
   },
   "outputs": [
    {
     "name": "stdout",
     "output_type": "stream",
     "text": [
      "Epoch: 1/20...  Training Step: 50...  Training loss: 3.1763...  2.3972 sec/batch\n",
      "Epoch: 1/20...  Training Step: 100...  Training loss: 3.0962...  2.5529 sec/batch\n",
      "Epoch: 1/20...  Training Step: 150...  Training loss: 2.8266...  2.4612 sec/batch\n",
      "Epoch: 2/20...  Training Step: 200...  Training loss: 2.4557...  2.4925 sec/batch\n",
      "Epoch: 2/20...  Training Step: 250...  Training loss: 2.3632...  2.5118 sec/batch\n",
      "Epoch: 2/20...  Training Step: 300...  Training loss: 2.2431...  2.4539 sec/batch\n",
      "Epoch: 2/20...  Training Step: 350...  Training loss: 2.1945...  2.4679 sec/batch\n",
      "Epoch: 3/20...  Training Step: 400...  Training loss: 2.0753...  2.4618 sec/batch\n",
      "Epoch: 3/20...  Training Step: 450...  Training loss: 2.0204...  2.5339 sec/batch\n",
      "Epoch: 3/20...  Training Step: 500...  Training loss: 1.9418...  2.5280 sec/batch\n",
      "Epoch: 3/20...  Training Step: 550...  Training loss: 1.9296...  2.5328 sec/batch\n",
      "Epoch: 4/20...  Training Step: 600...  Training loss: 1.8265...  2.5801 sec/batch\n",
      "Epoch: 4/20...  Training Step: 650...  Training loss: 1.8319...  2.5008 sec/batch\n",
      "Epoch: 4/20...  Training Step: 700...  Training loss: 1.7770...  4.8048 sec/batch\n",
      "Epoch: 4/20...  Training Step: 750...  Training loss: 1.7496...  4.6178 sec/batch\n",
      "Epoch: 5/20...  Training Step: 800...  Training loss: 1.7034...  4.4262 sec/batch\n",
      "Epoch: 5/20...  Training Step: 850...  Training loss: 1.6791...  4.3275 sec/batch\n",
      "Epoch: 5/20...  Training Step: 900...  Training loss: 1.6612...  3.9788 sec/batch\n",
      "Epoch: 5/20...  Training Step: 950...  Training loss: 1.6370...  4.4635 sec/batch\n",
      "Epoch: 6/20...  Training Step: 1000...  Training loss: 1.6070...  4.0664 sec/batch\n",
      "Epoch: 6/20...  Training Step: 1050...  Training loss: 1.6219...  4.1429 sec/batch\n",
      "Epoch: 6/20...  Training Step: 1100...  Training loss: 1.5715...  4.2939 sec/batch\n",
      "Epoch: 6/20...  Training Step: 1150...  Training loss: 1.5743...  4.6056 sec/batch\n",
      "Epoch: 7/20...  Training Step: 1200...  Training loss: 1.5242...  4.3890 sec/batch\n",
      "Epoch: 7/20...  Training Step: 1250...  Training loss: 1.5695...  4.4060 sec/batch\n",
      "Epoch: 7/20...  Training Step: 1300...  Training loss: 1.4945...  4.9580 sec/batch\n",
      "Epoch: 7/20...  Training Step: 1350...  Training loss: 1.4892...  4.2318 sec/batch\n",
      "Epoch: 8/20...  Training Step: 1400...  Training loss: 1.5056...  4.4578 sec/batch\n",
      "Epoch: 8/20...  Training Step: 1450...  Training loss: 1.4756...  4.5212 sec/batch\n",
      "Epoch: 8/20...  Training Step: 1500...  Training loss: 1.4387...  4.3143 sec/batch\n",
      "Epoch: 8/20...  Training Step: 1550...  Training loss: 1.4402...  3.8517 sec/batch\n",
      "Epoch: 9/20...  Training Step: 1600...  Training loss: 1.4097...  3.9576 sec/batch\n",
      "Epoch: 9/20...  Training Step: 1650...  Training loss: 1.4309...  4.7651 sec/batch\n",
      "Epoch: 9/20...  Training Step: 1700...  Training loss: 1.3659...  4.5495 sec/batch\n",
      "Epoch: 9/20...  Training Step: 1750...  Training loss: 1.4011...  4.5018 sec/batch\n",
      "Epoch: 10/20...  Training Step: 1800...  Training loss: 1.4165...  4.3320 sec/batch\n",
      "Epoch: 10/20...  Training Step: 1850...  Training loss: 1.3726...  4.1469 sec/batch\n",
      "Epoch: 10/20...  Training Step: 1900...  Training loss: 1.3748...  4.0170 sec/batch\n",
      "Epoch: 10/20...  Training Step: 1950...  Training loss: 1.4413...  4.4547 sec/batch\n",
      "Epoch: 11/20...  Training Step: 2000...  Training loss: 1.3987...  4.5914 sec/batch\n",
      "Epoch: 11/20...  Training Step: 2050...  Training loss: 1.3405...  4.7415 sec/batch\n",
      "Epoch: 11/20...  Training Step: 2100...  Training loss: 1.3445...  4.4926 sec/batch\n",
      "Epoch: 11/20...  Training Step: 2150...  Training loss: 1.3446...  4.5654 sec/batch\n",
      "Epoch: 12/20...  Training Step: 2200...  Training loss: 1.3414...  4.6632 sec/batch\n",
      "Epoch: 12/20...  Training Step: 2250...  Training loss: 1.3566...  4.6501 sec/batch\n",
      "Epoch: 12/20...  Training Step: 2300...  Training loss: 1.2839...  4.2854 sec/batch\n",
      "Epoch: 12/20...  Training Step: 2350...  Training loss: 1.3048...  4.7531 sec/batch\n",
      "Epoch: 13/20...  Training Step: 2400...  Training loss: 1.3288...  4.5449 sec/batch\n",
      "Epoch: 13/20...  Training Step: 2450...  Training loss: 1.2967...  4.5571 sec/batch\n",
      "Epoch: 13/20...  Training Step: 2500...  Training loss: 1.3142...  4.9169 sec/batch\n",
      "Epoch: 13/20...  Training Step: 2550...  Training loss: 1.3088...  4.5350 sec/batch\n",
      "Epoch: 14/20...  Training Step: 2600...  Training loss: 1.2580...  4.2164 sec/batch\n",
      "Epoch: 14/20...  Training Step: 2650...  Training loss: 1.3124...  4.7211 sec/batch\n",
      "Epoch: 14/20...  Training Step: 2700...  Training loss: 1.2405...  4.8173 sec/batch\n",
      "Epoch: 14/20...  Training Step: 2750...  Training loss: 1.2706...  4.4748 sec/batch\n",
      "Epoch: 15/20...  Training Step: 2800...  Training loss: 1.3023...  4.4957 sec/batch\n",
      "Epoch: 15/20...  Training Step: 2850...  Training loss: 1.2700...  4.3857 sec/batch\n",
      "Epoch: 15/20...  Training Step: 2900...  Training loss: 1.2859...  2.4453 sec/batch\n",
      "Epoch: 15/20...  Training Step: 2950...  Training loss: 1.3159...  2.4684 sec/batch\n",
      "Epoch: 16/20...  Training Step: 3000...  Training loss: 1.2893...  2.4664 sec/batch\n",
      "Epoch: 16/20...  Training Step: 3050...  Training loss: 1.2680...  2.4131 sec/batch\n",
      "Epoch: 16/20...  Training Step: 3100...  Training loss: 1.2215...  2.4078 sec/batch\n",
      "Epoch: 16/20...  Training Step: 3150...  Training loss: 1.2342...  2.4763 sec/batch\n",
      "Epoch: 17/20...  Training Step: 3200...  Training loss: 1.2315...  2.3950 sec/batch\n",
      "Epoch: 17/20...  Training Step: 3250...  Training loss: 1.2609...  2.3678 sec/batch\n",
      "Epoch: 17/20...  Training Step: 3300...  Training loss: 1.2259...  2.3789 sec/batch\n",
      "Epoch: 17/20...  Training Step: 3350...  Training loss: 1.2488...  2.4338 sec/batch\n",
      "Epoch: 18/20...  Training Step: 3400...  Training loss: 1.2438...  2.4187 sec/batch\n",
      "Epoch: 18/20...  Training Step: 3450...  Training loss: 1.2398...  2.4268 sec/batch\n",
      "Epoch: 18/20...  Training Step: 3500...  Training loss: 1.2406...  2.3802 sec/batch\n",
      "Epoch: 18/20...  Training Step: 3550...  Training loss: 1.2255...  2.5415 sec/batch\n",
      "Epoch: 19/20...  Training Step: 3600...  Training loss: 1.2418...  2.4094 sec/batch\n",
      "Epoch: 19/20...  Training Step: 3650...  Training loss: 1.2261...  2.3644 sec/batch\n",
      "Epoch: 19/20...  Training Step: 3700...  Training loss: 1.2236...  2.4084 sec/batch\n",
      "Epoch: 19/20...  Training Step: 3750...  Training loss: 1.2050...  2.3766 sec/batch\n",
      "Epoch: 20/20...  Training Step: 3800...  Training loss: 1.1810...  2.3970 sec/batch\n",
      "Epoch: 20/20...  Training Step: 3850...  Training loss: 1.1938...  2.3715 sec/batch\n",
      "Epoch: 20/20...  Training Step: 3900...  Training loss: 1.2385...  2.3890 sec/batch\n",
      "Epoch: 20/20...  Training Step: 3950...  Training loss: 1.2094...  2.4178 sec/batch\n"
     ]
    }
   ],
   "source": [
    "epochs = 20\n",
    "\n",
    "print_every_n = 50\n",
    "\n",
    "save_every_n = 200\n",
    "\n",
    "model = CharRNN(len(vocab), batch_size=batch_size, num_steps=num_steps,\n",
    "                lstm_size=lstm_size, num_layers=num_layers, \n",
    "                learning_rate=learning_rate)\n",
    "# model = CharRNN(len(vocab), batch_size, num_steps, lstm_size, num_layers, learning_rate)\n",
    "\n",
    "saver = tf.train.Saver(max_to_keep=100)\n",
    "\n",
    "with tf.Session() as sess:\n",
    "    sess.run(tf.global_variables_initializer())\n",
    "    \n",
    "    counter=0\n",
    "    for e in range(epochs):\n",
    "        new_state = sess.run(model.initial_state)\n",
    "        loss = 0\n",
    "        for x,y in get_batches(encoded, batch_size, num_steps):\n",
    "            start = time.time()\n",
    "            counter+=1\n",
    "            batch_loss, new_state, _ = sess.run(\n",
    "                [model.loss, model.final_state, model.optimizer],\n",
    "                    feed_dict={\n",
    "                        model.inputs:x,\n",
    "                        model.targets:y,\n",
    "                        model.keep_prob:keep_prob,\n",
    "                        model.initial_state: new_state\n",
    "                    })\n",
    "            \n",
    "            if (counter%print_every_n ==0):\n",
    "                end = time.time()\n",
    "                print('Epoch: {}/{}... '.format(e+1, epochs),\n",
    "                      'Training Step: {}... '.format(counter),\n",
    "                      'Training loss: {:.4f}... '.format(batch_loss),\n",
    "                      '{:.4f} sec/batch'.format((end-start)))\n",
    "            \n",
    "            if (counter%save_every_n==0):\n",
    "                saver.save(sess, \"checkpoints1/i{}_l{}.ckpt\".format(counter, lstm_size))\n",
    "                \n",
    "    saver.save(sess, \"checkpoints1/i{}_l{}.ckpt\".format(counter, lstm_size))"
   ]
  },
  {
   "cell_type": "markdown",
   "metadata": {},
   "source": [
    "#### Saved checkpoints\n",
    "\n",
    "Read up on saving and loading checkpoints here: https://www.tensorflow.org/programmers_guide/variables"
   ]
  },
  {
   "cell_type": "code",
   "execution_count": 213,
   "metadata": {},
   "outputs": [
    {
     "data": {
      "text/plain": [
       "model_checkpoint_path: \"checkpoints1/i3960_l512.ckpt\"\n",
       "all_model_checkpoint_paths: \"checkpoints1/i200_l512.ckpt\"\n",
       "all_model_checkpoint_paths: \"checkpoints1/i400_l512.ckpt\"\n",
       "all_model_checkpoint_paths: \"checkpoints1/i600_l512.ckpt\"\n",
       "all_model_checkpoint_paths: \"checkpoints1/i800_l512.ckpt\"\n",
       "all_model_checkpoint_paths: \"checkpoints1/i1000_l512.ckpt\"\n",
       "all_model_checkpoint_paths: \"checkpoints1/i1200_l512.ckpt\"\n",
       "all_model_checkpoint_paths: \"checkpoints1/i1400_l512.ckpt\"\n",
       "all_model_checkpoint_paths: \"checkpoints1/i1600_l512.ckpt\"\n",
       "all_model_checkpoint_paths: \"checkpoints1/i1800_l512.ckpt\"\n",
       "all_model_checkpoint_paths: \"checkpoints1/i2000_l512.ckpt\"\n",
       "all_model_checkpoint_paths: \"checkpoints1/i2200_l512.ckpt\"\n",
       "all_model_checkpoint_paths: \"checkpoints1/i2400_l512.ckpt\"\n",
       "all_model_checkpoint_paths: \"checkpoints1/i2600_l512.ckpt\"\n",
       "all_model_checkpoint_paths: \"checkpoints1/i2800_l512.ckpt\"\n",
       "all_model_checkpoint_paths: \"checkpoints1/i3000_l512.ckpt\"\n",
       "all_model_checkpoint_paths: \"checkpoints1/i3200_l512.ckpt\"\n",
       "all_model_checkpoint_paths: \"checkpoints1/i3400_l512.ckpt\"\n",
       "all_model_checkpoint_paths: \"checkpoints1/i3600_l512.ckpt\"\n",
       "all_model_checkpoint_paths: \"checkpoints1/i3800_l512.ckpt\"\n",
       "all_model_checkpoint_paths: \"checkpoints1/i3960_l512.ckpt\""
      ]
     },
     "execution_count": 213,
     "metadata": {},
     "output_type": "execute_result"
    }
   ],
   "source": [
    "tf.train.get_checkpoint_state('checkpoints1')"
   ]
  },
  {
   "cell_type": "markdown",
   "metadata": {},
   "source": [
    "## Sampling\n",
    "\n",
    "Now that the network is trained, we'll can use it to generate new text. The idea is that we pass in a character, then the network will predict the next character. We can use the new one, to predict the next one. And we keep doing this to generate all new text. I also included some functionality to prime the network with some text by passing in a string and building up a state from that.\n",
    "\n",
    "The network gives us predictions for each character. To reduce noise and make things a little less random, I'm going to only choose a new character from the top N most likely characters.\n",
    "\n"
   ]
  },
  {
   "cell_type": "code",
   "execution_count": 214,
   "metadata": {},
   "outputs": [],
   "source": [
    "def pick_top_n(preds, vocab_size, top_n=5):\n",
    "    p = np.squeeze(preds)\n",
    "    p[np.argsort(p)[:-top_n]] = 0\n",
    "    p = p / np.sum(p)\n",
    "    c = np.random.choice(vocab_size, 1, p=p)[0]\n",
    "    return c"
   ]
  },
  {
   "cell_type": "code",
   "execution_count": 233,
   "metadata": {},
   "outputs": [],
   "source": [
    "def sample(checkpoint, n_samples, lstm_size, vocab_size, prime=\"The \"):\n",
    "    samples = [c for c in prime]\n",
    "    model = CharRNN(len(vocab), lstm_size=lstm_size, sampling=True)\n",
    "    saver = tf.train.Saver()\n",
    "    with tf.Session() as sess:\n",
    "        saver.restore(sess, checkpoint)\n",
    "        new_state = sess.run(model.initial_state)\n",
    "        for c in prime:\n",
    "            x = np.zeros((1, 1))\n",
    "            x[0,0] = vocab_to_int[c]\n",
    "            feed = {model.inputs: x,\n",
    "                    model.keep_prob: 1.,\n",
    "                    model.initial_state: new_state}\n",
    "            preds, new_state = sess.run([model.prediction, model.final_state], \n",
    "                                         feed_dict=feed)\n",
    "\n",
    "        c = pick_top_n(preds, len(vocab))\n",
    "        samples.append(int_to_vocab[c])\n",
    "\n",
    "        for i in range(n_samples):\n",
    "            x[0,0] = c\n",
    "            feed = {model.inputs: x,\n",
    "                    model.keep_prob: 1.,\n",
    "                    model.initial_state: new_state}\n",
    "            preds, new_state = sess.run([model.prediction, model.final_state], \n",
    "                                         feed_dict=feed)\n",
    "\n",
    "            c = pick_top_n(preds, len(vocab))\n",
    "            samples.append(int_to_vocab[c])\n",
    "        \n",
    "    return ''.join(samples)"
   ]
  },
  {
   "cell_type": "code",
   "execution_count": 238,
   "metadata": {},
   "outputs": [],
   "source": [
    "def sample(checkoint, n_samples, lstm_size, vocab_size, prime=\"The \"):\n",
    "    samples = [c for c in prime]\n",
    "    model = CharRNN(len(vocab), lstm_size=lstm_size, sampling=True)\n",
    "    saver = tf.train.Saver()\n",
    "    \n",
    "    with tf.Session() as sess:\n",
    "        saver.restore(sess, checkoint)\n",
    "        new_state = sess.run(model.initial_state)\n",
    "        for c in prime:\n",
    "            x = np.zeros((1,1))\n",
    "            x[0,0] = vocab_to_int[c]\n",
    "            \n",
    "            preds, new_state = sess.run([model.prediction, model.final_state],\n",
    "                                       feed_dict={\n",
    "                                           model.inputs: x,\n",
    "                                           model.keep_prob: 1.,\n",
    "                                           model.initial_state: new_state\n",
    "                                       })\n",
    "        c = pick_top_n(preds, len(vocab))\n",
    "        samples.append(int_to_vocab[c])\n",
    "        \n",
    "        for i in range(n_samples):\n",
    "            x[0,0] = c\n",
    "            preds, new_state = sess.run([model.prediction, model.final_state],\n",
    "                                      feed_dict={\n",
    "                                          model.inputs: x,\n",
    "                                          model.keep_prob: 1.,\n",
    "                                          model.initial_state: new_state\n",
    "                                      })\n",
    "            \n",
    "            c = pick_top_n(preds, len(vocab))\n",
    "            samples.append(int_to_vocab[c])\n",
    "            \n",
    "    return ''.join(samples)"
   ]
  },
  {
   "cell_type": "markdown",
   "metadata": {},
   "source": [
    "Here, pass in the path to a checkpoint and sample from the network."
   ]
  },
  {
   "cell_type": "code",
   "execution_count": 239,
   "metadata": {},
   "outputs": [
    {
     "data": {
      "text/plain": [
       "'checkpoints1/i3960_l512.ckpt'"
      ]
     },
     "execution_count": 239,
     "metadata": {},
     "output_type": "execute_result"
    }
   ],
   "source": [
    "tf.train.latest_checkpoint('checkpoints1')"
   ]
  },
  {
   "cell_type": "code",
   "execution_count": 240,
   "metadata": {},
   "outputs": [
    {
     "name": "stdout",
     "output_type": "stream",
     "text": [
      "INFO:tensorflow:Restoring parameters from checkpoints/i3960_l512.ckpt\n",
      "Farly had always, and he did not say something to talk. To carp the\n",
      "bigle of to him as however world has been satisfied. She saw his bear\n",
      "softened breathe of the periomable word and was to say something, he\n",
      "had not been straight on the croth.\n",
      "\n",
      "\"I am asked him it's not themselves to help them to dislove.\n",
      "\n",
      "Thouse her as she think? It is an evolucling those were a sheat, and to\n",
      "bight. It's neiders, all senses of soul, but to long ago are not try when\n",
      "that werring over his hands, and some sister's subject and he called\n",
      "them.\"\n",
      "\n",
      "\"What a concertch? I'm all sorried and during, but three imputs to his man\n",
      "as the way that so made her to tried. I do not strove me.\"\n",
      "\n",
      "Anna heard the dream of the consequence of the concension of the\n",
      "distinction of her husband's words.\n",
      "\n",
      "\"And would not to say something by its,\" said Anna, looking stull when he\n",
      "was all the perfacorate agume they were still. They were recalled on\n",
      "her stepal purponts.\n",
      "\n",
      "And that this weaking harrows of the possibility of the same\n",
      "tense him to him as had been, so, was that his breash is all she the\n",
      "betwer a stern and an interparate carriage was incomprehsendible, as\n",
      "it were. He felt that he was that tone that had fall in the commors of\n",
      "time to meet, an offer if out of the.... Will her bit seemed at his\n",
      "face. Any of his life was not a great servant of some one, talk, and the\n",
      "lugglances of all that seeply and contradiction as she asked that the\n",
      "sacree and her sun. Anna was the carriage and the something open over\n",
      "how they wartly being sear friencly, there is with his corrisoon\n",
      "smile, as though therefie all other had a supporting that take with\n",
      "rabilary thorgules to themselves. And these, whatever he had been\n",
      "thring on her attitude to be sould in this peasantna at happiness\n",
      "to the peatants. The prile of service, bulling their\n",
      "stoul steps there was sucpilution the praces, and he had something\n",
      "where they tried to say,\" he said with the cominitival painfully, and\n",
      "smiled through which on the strangers came up. They went towards th\n"
     ]
    }
   ],
   "source": [
    "checkpoint = tf.train.latest_checkpoint('checkpoints')\n",
    "smp = sample(checkpoint, 2000, lstm_size, len(vocab), prime='Far')\n",
    "print(smp)"
   ]
  },
  {
   "cell_type": "code",
   "execution_count": 244,
   "metadata": {},
   "outputs": [
    {
     "name": "stdout",
     "output_type": "stream",
     "text": [
      "INFO:tensorflow:Restoring parameters from checkpoints/i400_l512.ckpt\n",
      "Farve race me anestele sa merterensed, hond shot andered him tit as for simins to besint the whe has shaid the wand th hand on andithon the sond as andist hor her, sane wo hes of tile\n",
      "sal to hom the was the therer, ast tho shisg at the salt,\"\n",
      "sousd at one wat at the hins that on hant bene son thend woser ant all woter his bester aste that that stith on whe her walld,\n",
      "wher his ans al and wat him\n",
      "hesed someded of the pesces to sale, sild had wat of and theat has\n",
      "sof thand, the shasking an sale to com tome, alr\n",
      "thith hom ofe thores heand the she soo hive, and\n",
      "womling the sald to himes, betere shathe sant has\n",
      "prittes, and then thish most of har and the wont thith as the dorss whins as tomle to morsaring shims offite that shing, of tisken wim to se ste hid.\n",
      "\n",
      "\"\"Wh, solle. The wigher an tho his whas se tonge to must him has,\n",
      "with te sor she torl thoungot ans\n",
      "ttent her toors\n",
      "peating ou tour.\n",
      "He wond she satered that thishe and whes sis and she and to to ken to tele hom, and aned as has was and tho\n"
     ]
    }
   ],
   "source": [
    "checkpoint = 'checkpoints/i400_l512.ckpt'\n",
    "samp = sample(checkpoint, 1000, lstm_size, len(vocab), prime=\"Far\")\n",
    "print(samp)"
   ]
  },
  {
   "cell_type": "code",
   "execution_count": 242,
   "metadata": {},
   "outputs": [
    {
     "name": "stdout",
     "output_type": "stream",
     "text": [
      "INFO:tensorflow:Restoring parameters from checkpoints/i600_l512.ckpt\n",
      "Farlly; ank with her to buth his waice to, and the said with terem the simporing ondereated of would\n",
      "of ite as than\n",
      "she cardings alothing and herese timpers,\n",
      "but\n",
      "her fitel andse farilight ot the rimarous of all out wall, whet\n",
      "it a speperioned of his will face that his his prand in there. How said have and dead to hid\n",
      "his wond anr her wand well\n",
      "stolling.\"\n",
      "\n",
      "\"Thet asso an the proched on the pastes on\n",
      "her sheatial, and hid\n",
      "torl the saling and sacked thitk hims and\n",
      "thear him of her sope,\n",
      "hissedfiting his had batker ham him, buce he paetion\n",
      "of seid to her,\n",
      "whan he was timn have and troide her. \"I as had tome toor ond with and wassed, and his soor it his saptith of a wine whosh and thoule fould senters on the hass the hid nos\n",
      "head, he hed haw and his for his, was\n",
      "with had,\n",
      "and reand, whill he when\n",
      "his\n",
      "that her and\n",
      "was aspanition to her. But the found so dive thet the best at the round of hor was hould be the drepat asperisine shat on the strome to his with inte fartle, she assades wertist of hers\n"
     ]
    }
   ],
   "source": [
    "checkpoint = 'checkpoints/i600_l512.ckpt'\n",
    "samp = sample(checkpoint, 1000, lstm_size, len(vocab), prime=\"Far\")\n",
    "print(samp)"
   ]
  },
  {
   "cell_type": "code",
   "execution_count": 243,
   "metadata": {},
   "outputs": [
    {
     "name": "stdout",
     "output_type": "stream",
     "text": [
      "INFO:tensorflow:Restoring parameters from checkpoints/i1200_l512.ckpt\n",
      "Farriencs\n",
      "who had not that\n",
      "she had not\n",
      "coming it with the soon of the money, when they wish had seemed at once too\n",
      "thin what have he could nuch she drops in that the she supper the hass, but\n",
      "in his forms with the chorses.\"\n",
      "\n",
      "And as they, was thought and the paling who had going to that he saw ho siged in a place would bo seeked which the old did officult whit he had stild still had been trreated to sive to her should sit\n",
      "he could not strakne wasted treathing to her has somition to the hoor of the\n",
      "self of the\n",
      "spart was a fore of whrihh wortion with a cound they were granced\n",
      "is to Mary Sat his carrial to the his mottor, while this wan to the birl with her to as\n",
      "of all-the sead that seeked tited\n",
      "her becime that seemed to sigur, which as sillect that them, and she wished some of all hape to a spities, and was side and had terned hean he too make\n",
      "the priefsing out ovan and strence at a side of a sort that say him forest the stepind and sanstion, about to take told toll the bromen on once\n",
      "the sen\n"
     ]
    }
   ],
   "source": [
    "checkpoint = 'checkpoints/i1200_l512.ckpt'\n",
    "samp = sample(checkpoint, 1000, lstm_size, len(vocab), prime=\"Far\")\n",
    "print(samp)"
   ]
  },
  {
   "cell_type": "code",
   "execution_count": null,
   "metadata": {},
   "outputs": [],
   "source": []
  }
 ],
 "metadata": {
  "kernelspec": {
   "display_name": "Python [default]",
   "language": "python",
   "name": "python3"
  },
  "language_info": {
   "codemirror_mode": {
    "name": "ipython",
    "version": 3
   },
   "file_extension": ".py",
   "mimetype": "text/x-python",
   "name": "python",
   "nbconvert_exporter": "python",
   "pygments_lexer": "ipython3",
   "version": "3.6.0"
  }
 },
 "nbformat": 4,
 "nbformat_minor": 2
}
