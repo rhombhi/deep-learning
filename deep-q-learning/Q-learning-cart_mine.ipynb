{
 "cells": [
  {
   "cell_type": "markdown",
   "metadata": {},
   "source": [
    "# Deep $Q$-learning\n",
    "\n",
    "In this notebook, we'll build a neural network that can learn to play games through reinforcement learning. More specifically, we'll use $Q$-learning to train an agent to play a game called [Cart-Pole](https://gym.openai.com/envs/CartPole-v0). In this game, a freely swinging pole is attached to a cart. The cart can move to the left and right, and the goal is to keep the pole upright as long as possible.\n",
    "\n",
    "![Cart-Pole](assets/cart-pole.jpg)\n",
    "\n",
    "We can simulate this game using [OpenAI Gym](https://github.com/openai/gym). First, let's check out how OpenAI Gym works. Then, we'll get into training an agent to play the Cart-Pole game."
   ]
  },
  {
   "cell_type": "code",
   "execution_count": 2,
   "metadata": {},
   "outputs": [
    {
     "name": "stdout",
     "output_type": "stream",
     "text": [
      "\u001b[33mWARN: gym.spaces.Box autodetected dtype as <class 'numpy.float32'>. Please provide explicit dtype.\u001b[0m\n"
     ]
    }
   ],
   "source": [
    "import gym\n",
    "import numpy as np\n",
    "\n",
    "env = gym.make('CartPole-v1')\n",
    "\n"
   ]
  },
  {
   "cell_type": "code",
   "execution_count": 3,
   "metadata": {},
   "outputs": [
    {
     "name": "stdout",
     "output_type": "stream",
     "text": [
      "Number of action spaces: 2\n"
     ]
    }
   ],
   "source": [
    "print('Number of action spaces:', env.action_space.n)"
   ]
  },
  {
   "cell_type": "markdown",
   "metadata": {},
   "source": [
    "We interact with the simulation through `env`.  You can see how many actions are possible from `env.action_space.n`, and to get a random action you can use `env.action_space.sample()`.  Passing in an action as an integer to `env.step` will generate the next step in the simulation.  This is general to all Gym games. \n",
    "\n",
    "In the Cart-Pole game, there are two possible actions, moving the cart left or right. So there are two actions we can take, encoded as 0 and 1.\n",
    "\n",
    "Run the code below to interact with the environment."
   ]
  },
  {
   "cell_type": "code",
   "execution_count": 4,
   "metadata": {},
   "outputs": [
    {
     "name": "stdout",
     "output_type": "stream",
     "text": [
      "15.0\n"
     ]
    }
   ],
   "source": [
    "actions = []\n",
    "rewards = []\n",
    "total = 0\n",
    "state = env.reset()\n",
    "\n",
    "while True:\n",
    "    action = env.action_space.sample()\n",
    "    state, reward, done, info = env.step(action)\n",
    "    actions.append(action)\n",
    "    rewards.append(reward)\n",
    "    total+=reward\n",
    "#     env.render()\n",
    "    if done:\n",
    "        break\n",
    "\n",
    "\n",
    "print(total)"
   ]
  },
  {
   "cell_type": "markdown",
   "metadata": {},
   "source": [
    "We can look at the actions and rewards:"
   ]
  },
  {
   "cell_type": "code",
   "execution_count": 5,
   "metadata": {},
   "outputs": [
    {
     "name": "stdout",
     "output_type": "stream",
     "text": [
      "Actions: [0, 1, 1, 0, 1, 1, 1, 1, 1, 1, 1, 0, 0, 1, 0]\n"
     ]
    }
   ],
   "source": [
    "print('Actions:', actions)"
   ]
  },
  {
   "cell_type": "code",
   "execution_count": 6,
   "metadata": {},
   "outputs": [
    {
     "name": "stdout",
     "output_type": "stream",
     "text": [
      "Rewards: [1.0, 1.0, 1.0, 1.0, 1.0, 1.0, 1.0, 1.0, 1.0, 1.0, 1.0, 1.0, 1.0, 1.0, 1.0]\n"
     ]
    }
   ],
   "source": [
    "print('Rewards:', rewards)"
   ]
  },
  {
   "cell_type": "code",
   "execution_count": 7,
   "metadata": {},
   "outputs": [
    {
     "data": {
      "text/plain": [
       "Box(4,)"
      ]
     },
     "execution_count": 7,
     "metadata": {},
     "output_type": "execute_result"
    }
   ],
   "source": [
    "env.observation_space"
   ]
  },
  {
   "cell_type": "markdown",
   "metadata": {},
   "source": [
    "The game resets after the pole has fallen past a certain angle. For each step while the game is running, it returns a reward of 1.0. The longer the game runs, the more reward we get. Then, our network's goal is to maximize the reward by keeping the pole vertical. It will do this by moving the cart to the left and the right.\n",
    "\n",
    "## $Q$-Network\n",
    "\n",
    "To keep track of the action values, we'll use a neural network that accepts a state $s$ as input.  The output will be $Q$-values for each available action $a$ (i.e., the output is **all** action values $Q(s,a)$ _corresponding to the input state $s$_).\n",
    "\n",
    "<img src=\"assets/q-network.png\" width=550px>\n",
    "\n",
    "For this Cart-Pole game, the state has four values: the position and velocity of the cart, and the position and velocity of the pole.  Thus, the neural network has **four inputs**, one for each value in the state, and **two outputs**, one for each possible action. \n",
    "\n",
    "As explored in the lesson, to get the training target, we'll first use the context provided by the state $s$ to choose an action $a$, then simulate the game using that action. This will get us the next state, $s'$, and the reward $r$. With that, we can calculate $\\hat{Q}(s,a) = r + \\gamma \\max_{a'}{Q(s', a')}$.  Then we update the weights by minimizing $(\\hat{Q}(s,a) - Q(s,a))^2$. \n",
    "\n",
    "Below is one implementation of the $Q$-network. It uses two fully connected layers with ReLU activations. Two seems to be good enough, three might be better. Feel free to try it out."
   ]
  },
  {
   "cell_type": "code",
   "execution_count": 8,
   "metadata": {},
   "outputs": [],
   "source": [
    "import tensorflow as tf\n",
    "class QNetwork:\n",
    "    def __init__(self, learning_rate=0.01, state_size=4, \n",
    "                 action_size=2, hidden_units=10, name='QNetwork'):\n",
    "        \n",
    "        with tf.variable_scope(name):\n",
    "            self.inputs_ = tf.placeholder(tf.float32, [None, state_size], name='inputs')\n",
    "            self.actions_ = tf.placeholder(tf.int32, [action_size], name='actions')\n",
    "            one_hot_actions = tf.one_hot(self.actions_, action_size)\n",
    "            \n",
    "            self.targetQs_ = tf.placeholder(tf.float32, [None], 'target')\n",
    "            \n",
    "            self.fc1 = tf.contrib.layers.fully_connected(self.inputs_, hidden_units)\n",
    "            self.fc2 = tf.contrib.layers.fully_connected(self.fc1, hidden_units)\n",
    "            \n",
    "            # actual output - the action to b taken\n",
    "            self.output = tf.contrib.layers.fully_connected(self.fc2, action_size, activation_fn=None)\n",
    "            \n",
    "            # Train with loss (targetQ - Q)^2\n",
    "            self.Q = tf.reduce_sum(tf.multiply(self.output, one_hot_actions), axis=1)\n",
    "            self.loss = tf.reduce_mean(tf.square(self.targetQs_ - self.Q))\n",
    "            self.opt = tf.train.AdamOptimizer(learning_rate).minimize(self.loss)"
   ]
  },
  {
   "cell_type": "markdown",
   "metadata": {},
   "source": [
    "## Experience replay\n",
    "\n",
    "Reinforcement learning algorithms can have stability issues due to correlations between states. To reduce correlations when training, we can store the agent's experiences and later draw a random mini-batch of those experiences to train on. \n",
    "\n",
    "Here, we'll create a `Memory` object that will store our experiences, our transitions $<s, a, r, s'>$. This memory will have a maximum capacity, so we can keep newer experiences in memory while getting rid of older experiences. Then, we'll sample a random mini-batch of transitions $<s, a, r, s'>$ and train on those.\n",
    "\n",
    "Below, I've implemented a `Memory` object. If you're unfamiliar with `deque`, this is a double-ended queue. You can think of it like a tube open on both sides. You can put objects in either side of the tube. But if it's full, adding anything more will push an object out the other side. This is a great data structure to use for the memory buffer."
   ]
  },
  {
   "cell_type": "code",
   "execution_count": 9,
   "metadata": {},
   "outputs": [],
   "source": [
    "from collections import deque\n",
    "\n",
    "class Memory:\n",
    "    def __init__(self, max_size=1000):\n",
    "        self.buffer = deque(maxlen=max_size)\n",
    "        \n",
    "    def add(self, experience):\n",
    "        self.buffer.append(experience)\n",
    "        \n",
    "    def sample(self, batch_size):\n",
    "        indices = np.random.choice(np.arange(len(self.buffer)), \n",
    "                                   siz=batch_size, replace=False)\n",
    "        return [self.buffer[i] for i in indices]"
   ]
  },
  {
   "cell_type": "markdown",
   "metadata": {},
   "source": [
    "## $Q$-Learning training algorithm\n",
    "\n",
    "We will use the below algorithm to train the network.  For this game, the goal is to keep the pole upright for 195 frames. So we can start a new episode once meeting that goal. The game ends if the pole tilts over too far, or if the cart moves too far the left or right. When a game ends, we'll start a new episode. Now, to train the agent:\n",
    "\n",
    "* Initialize the memory $D$\n",
    "* Initialize the action-value network $Q$ with random weights\n",
    "* **For** episode $\\leftarrow 1$ **to** $M$ **do**\n",
    "  * Observe $s_0$\n",
    "  * **For** $t \\leftarrow 0$ **to** $T-1$ **do**\n",
    "     * With probability $\\epsilon$ select a random action $a_t$, otherwise select $a_t = \\mathrm{argmax}_a Q(s_t,a)$\n",
    "     * Execute action $a_t$ in simulator and observe reward $r_{t+1}$ and new state $s_{t+1}$\n",
    "     * Store transition $<s_t, a_t, r_{t+1}, s_{t+1}>$ in memory $D$\n",
    "     * Sample random mini-batch from $D$: $<s_j, a_j, r_j, s'_j>$\n",
    "     * Set $\\hat{Q}_j = r_j$ if the episode ends at $j+1$, otherwise set $\\hat{Q}_j = r_j + \\gamma \\max_{a'}{Q(s'_j, a')}$\n",
    "     * Make a gradient descent step with loss $(\\hat{Q}_j - Q(s_j, a_j))^2$\n",
    "  * **endfor**\n",
    "* **endfor**\n",
    "\n",
    "You are welcome (and encouraged!) to take the time to extend this code to implement some of the improvements that we discussed in the lesson, to include fixed $Q$ targets, double DQNs, prioritized replay, and/or dueling networks.\n",
    "\n",
    "## Hyperparameters\n",
    "\n",
    "One of the more difficult aspects of reinforcement learning is the large number of hyperparameters. Not only are we tuning the network, but we're tuning the simulation."
   ]
  },
  {
   "cell_type": "code",
   "execution_count": 18,
   "metadata": {},
   "outputs": [],
   "source": [
    "# Training params\n",
    "train_episodes = 1\n",
    "max_steps = 200\n",
    "gamma = .99\n",
    "\n",
    "#Exploraory params\n",
    "explore_start = 1.0\n",
    "explore_stop = .01\n",
    "decay_rate = .0001\n",
    "\n",
    "# Network params\n",
    "learning_rate = .0001\n",
    "hidden_size=64\n",
    "\n",
    "# Memory params\n",
    "memory_size = 10000\n",
    "batch_size = 20\n",
    "pertain_length = batch_size"
   ]
  },
  {
   "cell_type": "code",
   "execution_count": 19,
   "metadata": {},
   "outputs": [],
   "source": [
    "tf.reset_default_graph()\n",
    "mainQN = QNetwork(name='main', learning_rate=learning_rate, hidden_units=hidden_size)"
   ]
  },
  {
   "cell_type": "markdown",
   "metadata": {},
   "source": [
    "## Populate the experience memory\n",
    "\n",
    "Here we re-initialize the simulation and pre-populate the memory. The agent is taking random actions and storing the transitions in memory. This will help the agent with exploring the game."
   ]
  },
  {
   "cell_type": "code",
   "execution_count": 20,
   "metadata": {},
   "outputs": [],
   "source": [
    "env.reset()\n",
    "\n",
    "memory = Memory(memory_size)\n",
    "\n",
    "action = env.action_space.sample()\n",
    "state, reward, done, info = env.step(action)\n",
    "\n",
    "for i in range(pertain_length):\n",
    "    action = env.action_space.sample()\n",
    "    next_state, reward, done, info = env.step(action)\n",
    "    \n",
    "    if done:\n",
    "        next_state = np.zeros(state.shape)\n",
    "        memory.add((state, reward, action, next_state))\n",
    "        env.reset()\n",
    "        state, reward, done, _ = env.step(env.action_space.sample())\n",
    "    else:\n",
    "        memory.add((state, reward, action, next_state))\n",
    "        state = next_state"
   ]
  },
  {
   "cell_type": "markdown",
   "metadata": {},
   "source": [
    "## Training\n",
    "\n",
    "Below we'll train our agent."
   ]
  },
  {
   "cell_type": "code",
   "execution_count": 21,
   "metadata": {},
   "outputs": [],
   "source": [
    "# # Now train with experiences\n",
    "# saver = tf.train.Saver()\n",
    "# rewards_list = []\n",
    "# with tf.Session() as sess:\n",
    "#     # Initialize variables\n",
    "#     sess.run(tf.global_variables_initializer())\n",
    "    \n",
    "#     step = 0\n",
    "#     for ep in range(1, train_episodes):\n",
    "#         total_reward = 0\n",
    "#         t = 0\n",
    "#         while t < max_steps:\n",
    "#             step += 1\n",
    "#             # Uncomment this next line to watch the training\n",
    "#             # env.render() \n",
    "            \n",
    "#             # Explore or Exploit\n",
    "#             explore_p = explore_stop + (explore_start - explore_stop)*np.exp(-decay_rate*step) \n",
    "#             if explore_p > np.random.rand():\n",
    "#                 # Make a random action\n",
    "#                 action = env.action_space.sample()\n",
    "#             else:\n",
    "#                 # Get action from Q-network\n",
    "#                 feed = {mainQN.inputs_: state.reshape((1, *state.shape))}\n",
    "#                 Qs = sess.run(mainQN.output, feed_dict=feed)\n",
    "#                 action = np.argmax(Qs)\n",
    "            \n",
    "#             # Take action, get new state and reward\n",
    "#             next_state, reward, done, _ = env.step(action)\n",
    "    \n",
    "#             total_reward += reward\n",
    "            \n",
    "#             if done:\n",
    "#                 # the episode ends so no next state\n",
    "#                 next_state = np.zeros(state.shape)\n",
    "#                 t = max_steps\n",
    "                \n",
    "#                 print('Episode: {}'.format(ep),\n",
    "#                       'Total reward: {}'.format(total_reward),\n",
    "# #                       'Training loss: {:.4f}'.format(loss),\n",
    "#                       'Explore P: {:.4f}'.format(explore_p))\n",
    "#                 rewards_list.append((ep, total_reward))\n",
    "                \n",
    "#                 # Add experience to memory\n",
    "#                 memory.add((state, action, reward, next_state))\n",
    "                \n",
    "#                 # Start new episode\n",
    "#                 env.reset()\n",
    "#                 # Take one random step to get the pole and cart moving\n",
    "#                 state, reward, done, _ = env.step(env.action_space.sample())\n",
    "\n",
    "#             else:\n",
    "#                 # Add experience to memory\n",
    "#                 memory.add((state, action, reward, next_state))\n",
    "#                 state = next_state\n",
    "#                 t += 1\n",
    "            \n",
    "#             # Sample mini-batch from memory\n",
    "#             batch = memory.sample(batch_size)\n",
    "#             states = np.array([each[0] for each in batch])\n",
    "#             actions = np.array([each[1] for each in batch])\n",
    "#             rewards = np.array([each[2] for each in batch])\n",
    "#             next_states = np.array([each[3] for each in batch])\n",
    "            \n",
    "#             # Train network\n",
    "#             target_Qs = sess.run(mainQN.output, feed_dict={mainQN.inputs_: next_states})\n",
    "            \n",
    "#             # Set target_Qs to 0 for states where episode ends\n",
    "#             episode_ends = (next_states == np.zeros(states[0].shape)).all(axis=1)\n",
    "#             target_Qs[episode_ends] = (0, 0)\n",
    "            \n",
    "#             targets = rewards + gamma * np.max(target_Qs, axis=1)\n",
    "\n",
    "#             loss, _ = sess.run([mainQN.loss, mainQN.opt],\n",
    "#                                 feed_dict={mainQN.inputs_: states,\n",
    "#                                            mainQN.targetQs_: targets,\n",
    "#                                            mainQN.actions_: actions})\n",
    "        \n",
    "#     saver.save(sess, \"checkpoints/cartpole.ckpt\")"
   ]
  },
  {
   "cell_type": "code",
   "execution_count": 15,
   "metadata": {},
   "outputs": [],
   "source": [
    "saver = tf.train.Saver()\n",
    "\n",
    "# rewards_list tracks the rewards for each episode, recorded only when a terminal state occurs\n",
    "rewards_list = []\n",
    "\n",
    "with tf.Session() as sess:\n",
    "    sess.run(tf.global_variables_initializer())\n",
    "    \n",
    "    step = 0\n",
    "    for ep in range(1, train_episodes):\n",
    "        # total_reward is the total rewad for each episode collected over multiple steps\n",
    "        total_reward = 0\n",
    "        \n",
    "        for t in range(max_steps):\n",
    "            step += 1\n",
    "            \n",
    "            explore_p = explore_stop +(explore_start - explore_stop) * np.exp(-decay_rate*step)\n",
    "            if explore_p > np.random.rand():\n",
    "                action = env.action_space.sample()\n",
    "            else:\n",
    "                Qs = sess.run(mainQN.output, feed_dict={mainQN.inputs_:state.reshape((1, *state.shape))})\n",
    "                action = np.argmax(Qs)\n",
    "                \n",
    "            next_state, reward, done, info = env.step(action)\n",
    "            total_reward += reward\n",
    "                \n",
    "            if done:\n",
    "                next_state = np.zeros(state.shape)\n",
    "                memory.add((state, action, reward, next_state))\n",
    "                \n",
    "                # complete this episode as terminal task has arrived\n",
    "                t = max_steps\n",
    "\n",
    "                rewards_list.append(total_reward)\n",
    "                state = env.step(env.action_space.sample())\n",
    "                \n",
    "            else:\n",
    "                memory.add((state, action, reward, next_state))\n",
    "                state = next_state\n",
    "                \n",
    "            batch = memory.sample(batch_size)\n",
    "            states = [each[0] for each in batch]\n",
    "            actions = [each[1] for each in batch]\n",
    "            rewards = [each[2] for each in batch]\n",
    "            next_states = [each[3] for each in batch]\n",
    "            \n",
    "            target_Qs = sess.run(mainQN.output, feed_dict={mainQN.inputs_:next_states})\n",
    "    \n",
    "            episode_ends = (next_states == np.zeros(states[0].shape)).all(axis=1)\n",
    "        \n",
    "            target_Qs[episode_ends] = (0, 0)\n",
    "\n",
    "            targets = rewards + gamma * np.max(target_Qs, axis=1)\n",
    "            \n",
    "            loss, _ = sess.run([mainQN.loss, mainQN.opt],\n",
    "                                feed_dict={mainQN.inputs_: states,\n",
    "                                           mainQN.targetQs_: targets,\n",
    "                                           mainQN.actions_: actions})\n",
    "        \n",
    "    saver.save(sess, \"checkpoints/cartpole.ckpt\")"
   ]
  },
  {
   "cell_type": "code",
   "execution_count": null,
   "metadata": {},
   "outputs": [],
   "source": []
  },
  {
   "cell_type": "markdown",
   "metadata": {},
   "source": [
    "## Visualizing training\n",
    "\n",
    "Below we plot the total rewards for each episode. The rolling average is plotted in blue."
   ]
  },
  {
   "cell_type": "code",
   "execution_count": null,
   "metadata": {},
   "outputs": [],
   "source": []
  },
  {
   "cell_type": "code",
   "execution_count": null,
   "metadata": {},
   "outputs": [],
   "source": []
  },
  {
   "cell_type": "code",
   "execution_count": null,
   "metadata": {},
   "outputs": [],
   "source": []
  },
  {
   "cell_type": "markdown",
   "metadata": {},
   "source": [
    "![png](output_21_1.png)\n",
    "\n",
    "\n",
    "## Playing Atari Games\n",
    "\n",
    "So, Cart-Pole is a pretty simple game. However, the same model can be used to train an agent to play something much more complicated like Pong or Space Invaders. Instead of a state like we're using here though, you'd want to use convolutional layers to get the state from the screen images.\n",
    "\n",
    "![Deep Q-Learning Atari](assets/atari-network.png)\n",
    "\n",
    "I'll leave it as a challenge for you to use deep Q-learning to train an agent to play Atari games. Here's the original paper which will get you started: http://www.davidqiu.com:8888/research/nature14236.pdf."
   ]
  }
 ],
 "metadata": {
  "kernelspec": {
   "display_name": "Python 3",
   "language": "python",
   "name": "python3"
  },
  "language_info": {
   "codemirror_mode": {
    "name": "ipython",
    "version": 3
   },
   "file_extension": ".py",
   "mimetype": "text/x-python",
   "name": "python",
   "nbconvert_exporter": "python",
   "pygments_lexer": "ipython3",
   "version": "3.6.3"
  }
 },
 "nbformat": 4,
 "nbformat_minor": 2
}
