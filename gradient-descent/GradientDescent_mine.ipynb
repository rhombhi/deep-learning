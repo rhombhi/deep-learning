{
 "cells": [
  {
   "cell_type": "markdown",
   "metadata": {
    "nbpresent": {
     "id": "caaf4d96-1361-4552-b482-15ed20eb7141"
    }
   },
   "source": [
    "# Implementing the Gradient Descent Algorithm\n",
    "\n",
    "In this lab, we'll implement the basic functions of the Gradient Descent algorithm to find the boundary in a small dataset. First, we'll start with some functions that will help us plot and visualize the data."
   ]
  },
  {
   "cell_type": "code",
   "execution_count": 89,
   "metadata": {
    "nbpresent": {
     "id": "757d29be-ab54-43f2-ae8f-4d94b7527899"
    }
   },
   "outputs": [],
   "source": [
    "import matplotlib.pyplot as plt\n",
    "import numpy as np\n",
    "import pandas as pd\n",
    "\n",
    "#Some helper functions for plotting and drawing lines\n",
    "def plot_points(X, y):\n",
    "    admitted = X[np.argwhere(y==1)]\n",
    "    rejected = X[np.argwhere(y==0)]\n",
    "    plt.scatter([s[0][0] for s in admitted], [s[0][1] for s in admitted], s=25, c='red', edgecolors='k')\n",
    "    plt.scatter([s[0][0] for s in rejected], [s[0][1] for s in rejected], s=25, c='blue', edgecolors='k')\n",
    "\n",
    "def display(m,b, color='g--'):\n",
    "    plt.xlim(-0.05, 1.05)\n",
    "    plt.ylim(-0.05, 1.05)\n",
    "    x = np.arange(-10, 10, 0.1)\n",
    "    plt.plot(x, m*x+b, color)"
   ]
  },
  {
   "cell_type": "markdown",
   "metadata": {
    "nbpresent": {
     "id": "5efb7b33-95a1-4f5b-a8c0-1cc9290521b7"
    }
   },
   "source": [
    "## Reading and plotting the data"
   ]
  },
  {
   "cell_type": "code",
   "execution_count": 90,
   "metadata": {
    "nbpresent": {
     "id": "65a6d032-2365-4a95-b51e-a61a39382818"
    }
   },
   "outputs": [
    {
     "data": {
      "image/png": "[encoded data removed]",
      "text/plain": [
       "<matplotlib.figure.Figure at 0x11db3d7b8>"
      ]
     },
     "metadata": {},
     "output_type": "display_data"
    }
   ],
   "source": [
    "data = pd.read_csv('data.csv', header=None)\n",
    "# data.head()\n",
    "# data.shape\n",
    "X = np.array(data[[0,1]])\n",
    "y = np.array(data[2])\n",
    "plot_points(X,y)\n",
    "plt.show()"
   ]
  },
  {
   "cell_type": "code",
   "execution_count": 103,
   "metadata": {},
   "outputs": [],
   "source": [
    "# data.describe()"
   ]
  },
  {
   "cell_type": "markdown",
   "metadata": {
    "nbpresent": {
     "id": "d16163b1-3b97-44da-ac08-f6106cbaeaf8"
    }
   },
   "source": [
    "## TODO: Implementing the basic functions\n",
    "Here is your turn to shine. Implement the following formulas, as explained in the text.\n",
    "- Sigmoid activation function\n",
    "\n",
    "$$\\sigma(x) = \\frac{1}{1+e^{-x}}$$\n",
    "\n",
    "- Output (prediction) formula\n",
    "\n",
    "$$\\hat{y} = \\sigma(w_1 x_1 + w_2 x_2 + b)$$\n",
    "\n",
    "- Error function\n",
    "\n",
    "$$Error(y, \\hat{y}) = - y \\log(\\hat{y}) - (1-y) \\log(1-\\hat{y})$$\n",
    "\n",
    "- The function that updates the weights\n",
    "\n",
    "$$ w_i \\longrightarrow w_i + \\alpha (y - \\hat{y}) x_i$$\n",
    "\n",
    "$$ b \\longrightarrow b + \\alpha (y - \\hat{y})$$"
   ]
  },
  {
   "cell_type": "code",
   "execution_count": 104,
   "metadata": {
    "nbpresent": {
     "id": "e948c184-ae77-44c9-8557-abb049d4643d"
    }
   },
   "outputs": [
    {
     "data": {
      "text/plain": [
       "0.36787944117144233"
      ]
     },
     "execution_count": 104,
     "metadata": {},
     "output_type": "execute_result"
    }
   ],
   "source": [
    "np.exp(-1)"
   ]
  },
  {
   "cell_type": "code",
   "execution_count": 114,
   "metadata": {},
   "outputs": [],
   "source": [
    "# # Activation (sigmoid) function\n",
    "# def sigmoid(x):\n",
    "#     return 1 / (1 + np.exp(-x))\n",
    "\n",
    "# def output_formula(features, weights, bias):\n",
    "#     return sigmoid(np.dot(features, weights) + bias)\n",
    "\n",
    "# def error_formula(y, output):\n",
    "#     return - y*np.log(output) - (1 - y) * np.log(1-output)\n",
    "\n",
    "# def update_weights(x, y, weights, bias, learnrate):\n",
    "#     output = output_formula(x, weights, bias)\n",
    "#     d_error = -(y - output)\n",
    "#     weights -= learnrate * d_error * x\n",
    "#     bias -= learnrate * d_error\n",
    "#     return weights, bias"
   ]
  },
  {
   "cell_type": "code",
   "execution_count": 115,
   "metadata": {
    "nbpresent": {
     "id": "8dfd7d8e-6ed7-4231-8700-c7de16ca3b19"
    }
   },
   "outputs": [],
   "source": [
    "# Implement the following functions\n",
    "\n",
    "# Activation (sigmoid) function\n",
    "def sigmoid(x):\n",
    "    return (1/(1+np.exp(-x)))\n",
    "\n",
    "# Output (prediction) formula\n",
    "def output_formula(features, weights, bias):\n",
    "    return sigmoid(np.matmul(features, weights)+bias)\n",
    "\n",
    "# Error (log-loss) formula\n",
    "def error_formula(y, output):\n",
    "    return ((-y * np.log(output)) - (1-y) * np.log(1-output))\n",
    "\n",
    "# Gradient descent step\n",
    "def update_weights(x, y, weights, bias, learnrate):\n",
    "    output = output_formula(x, weights, bias)\n",
    "    alpha = learnrate * (y-output)\n",
    "    weights2 = weights + alpha * x\n",
    "    bias2 = bias + alpha\n",
    "    return weights2, bias2"
   ]
  },
  {
   "cell_type": "markdown",
   "metadata": {
    "nbpresent": {
     "id": "f4f3cf06-961c-4f00-bb50-49cdc23229f4"
    }
   },
   "source": [
    "## Training function\n",
    "This function will help us iterate the gradient descent algorithm through all the data, for a number of epochs. It will also plot the data, and some of the boundary lines obtained as we run the algorithm."
   ]
  },
  {
   "cell_type": "code",
   "execution_count": 193,
   "metadata": {},
   "outputs": [],
   "source": [
    "# np.random.seed(44)\n",
    "\n",
    "# epochs = 100\n",
    "# learnrate = 0.01\n",
    "\n",
    "# def train(features, targets, epochs, learnrate, graph_lines=False):\n",
    "    \n",
    "#     errors = []\n",
    "#     n_records, n_features = features.shape\n",
    "#     last_loss = None\n",
    "#     weights = np.random.normal(scale=1 / n_features**.5, size=n_features)\n",
    "#     bias = 0\n",
    "#     for e in range(epochs):\n",
    "#         del_w = np.zeros(weights.shape)\n",
    "#         for x, y in zip(features, targets):\n",
    "#             output = output_formula(x, weights, bias)\n",
    "#             error = error_formula(y, output)\n",
    "#             weights, bias = update_weights(x, y, weights, bias, learnrate)\n",
    "        \n",
    "#         # Printing out the log-loss error on the training set\n",
    "#         out = output_formula(features, weights, bias)\n",
    "#         loss = np.mean(error_formula(targets, out))\n",
    "#         errors.append(loss)\n",
    "#         if e % (epochs / 10) == 0:\n",
    "#             print(\"\\n========== Epoch\", e,\"==========\")\n",
    "#             if last_loss and last_loss < loss:\n",
    "#                 print(\"Train loss: \", loss, \"  WARNING - Loss Increasing\")\n",
    "#             else:\n",
    "#                 print(\"Train loss: \", loss)\n",
    "#             last_loss = loss\n",
    "#             predictions = out > 0.5\n",
    "#             accuracy = np.mean(predictions == targets)\n",
    "#             print(\"Accuracy: \", accuracy)\n",
    "#         if graph_lines and e % (epochs / 100) == 0:\n",
    "#             display(-weights[0]/weights[1], -bias/weights[1])\n",
    "            \n",
    "\n",
    "#     # Plotting the solution boundary\n",
    "#     plt.title(\"Solution boundary\")\n",
    "#     display(-weights[0]/weights[1], -bias/weights[1], 'black')\n",
    "\n",
    "#     # Plotting the data\n",
    "#     plot_points(features, targets)\n",
    "#     plt.show()\n",
    "\n",
    "#     # Plotting the error\n",
    "#     plt.title(\"Error Plot\")\n",
    "#     plt.xlabel('Number of epochs')\n",
    "#     plt.ylabel('Error')\n",
    "#     plt.plot(errors)\n",
    "#     plt.show()"
   ]
  },
  {
   "cell_type": "code",
   "execution_count": 250,
   "metadata": {
    "nbpresent": {
     "id": "a7354557-9ca0-49fe-9cc4-6288da585626"
    }
   },
   "outputs": [],
   "source": [
    "np.random.seed(44)\n",
    "epochs = 100\n",
    "learnrate = 0.1\n",
    "\n",
    "def train(features, targets, epochs, learnrate, graph_lines=False):\n",
    "    errors = []\n",
    "    accuracies = []\n",
    "    last_loss = None\n",
    "    # print(features.shape)\n",
    "    # features.shape = (100,2)\n",
    "    n_records, n_features = features.shape\n",
    "    # print(n_records, n_features)\n",
    "    # n_records = 100\n",
    "    # n_features = 2\n",
    "    weights = np.random.normal(scale=1/n_features**.5, size=n_features)\n",
    "    # print(weights)\n",
    "    # print(weights.shape)\n",
    "    # weights eg. [ 1.31435855  0.06193405]\n",
    "    # weights.shape = (2,)\n",
    "    # print(targets.shape)\n",
    "    # targets.shape = (100,)\n",
    "    bias = 0\n",
    "    for e in range(epochs):\n",
    "        # This is the main step that does the step 2 of GD algo, that is\n",
    "        # calculating w' and b' for each point(x) and updating the formula. \n",
    "        # The next step merely calculates the error\n",
    "        for x,y in zip(features, targets):\n",
    "            # print(x,y)\n",
    "            # print(x.shape)\n",
    "            # print(y.shape)\n",
    "            # print(y)\n",
    "            # x.shape = (2,)\n",
    "            # y is a scalar -> 0 or 1\n",
    "            output = output_formula(x, weights, bias)\n",
    "            error = error_formula(y, output)\n",
    "            weights, bias = update_weights(x, y, weights, bias, learnrate)\n",
    "            # print(output)\n",
    "            # print(error)\n",
    "            # print(weights.shape)\n",
    "            # print(bias)\n",
    "            # output is a number, error is a number, weight.shape = (2,0), bias is a number\n",
    "        \n",
    "        # this step just calculates the cumulative error. Does not update any weights \n",
    "        # to adjust the error\n",
    "        out = output_formula(features, weights, bias)\n",
    "        # print(out.shape)\n",
    "        # print(out)\n",
    "        # out.shape = (100,)\n",
    "        err = error_formula(targets, out)\n",
    "        loss = np.mean(err)\n",
    "        # print(loss)\n",
    "        errors.append(loss)\n",
    "        \n",
    "        if e % (epochs/10) == 0:\n",
    "            print(\"================ Epoch e = \", e, \"================\")\n",
    "            if last_loss and last_loss < loss:\n",
    "                print(\"Train loss: \", loss, \"WARNING\")\n",
    "            else:\n",
    "                print(\"train loss: \",loss)\n",
    "            last_loss = loss\n",
    "            predictions = out > 0.5\n",
    "            accuracy = np.mean(predictions==targets)\n",
    "            print(\"Accuracy: \", accuracy)\n",
    "            accuracies.append(accuracy)\n",
    "            if graph_lines:\n",
    "                display(-weights[0]/weights[1], -bias/weights[1])\n",
    "        \n",
    "    plt.title(\"Solution Boundary\")\n",
    "    # display(m, b, color='g--')\n",
    "    display(-weights[0]/weights[1], -bias/weights[1], 'black')\n",
    "\n",
    "    plot_points(features, targets)\n",
    "    plt.show()\n",
    "    \n",
    "    plt.title('Error Plot')\n",
    "    plt.xlabel('Number of epochs')\n",
    "    plt.ylabel('Error')\n",
    "    plt.plot(errors)\n",
    "    plt.show()\n",
    "\n",
    "    plt.title('Accuracy Plot')\n",
    "    plt.xlabel('Number of epochs /10')\n",
    "    plt.ylabel('Error')\n",
    "    plt.plot(accuracies)\n"
   ]
  },
  {
   "cell_type": "code",
   "execution_count": null,
   "metadata": {},
   "outputs": [],
   "source": []
  },
  {
   "cell_type": "markdown",
   "metadata": {
    "nbpresent": {
     "id": "9ba3623c-94f5-431e-acb7-1a429b6b904a"
    }
   },
   "source": [
    "## Time to train the algorithm!\n",
    "When we run the function, we'll obtain the following:\n",
    "- 10 updates with the current training loss and accuracy\n",
    "- A plot of the data and some of the boundary lines obtained. The final one is in black. Notice how the lines get closer and closer to the best fit, as we go through more epochs.\n",
    "- A plot of the error function. Notice how it decreases as we go through more epochs."
   ]
  },
  {
   "cell_type": "code",
   "execution_count": 251,
   "metadata": {
    "nbpresent": {
     "id": "d63bb62d-0076-499b-8505-953bfeceb4bc"
    },
    "scrolled": false
   },
   "outputs": [
    {
     "name": "stdout",
     "output_type": "stream",
     "text": [
      "================ Epoch e =  0 ================\n",
      "train loss:  0.843982618777\n",
      "Accuracy:  0.5\n",
      "================ Epoch e =  10 ================\n",
      "train loss:  0.392597719231\n",
      "Accuracy:  0.82\n",
      "================ Epoch e =  20 ================\n",
      "train loss:  0.277937980383\n",
      "Accuracy:  0.91\n",
      "================ Epoch e =  30 ================\n",
      "train loss:  0.231877306589\n",
      "Accuracy:  0.92\n",
      "================ Epoch e =  40 ================\n",
      "train loss:  0.207426700177\n",
      "Accuracy:  0.93\n",
      "================ Epoch e =  50 ================\n",
      "train loss:  0.192330472133\n",
      "Accuracy:  0.93\n",
      "================ Epoch e =  60 ================\n",
      "train loss:  0.182106924888\n",
      "Accuracy:  0.93\n",
      "================ Epoch e =  70 ================\n",
      "train loss:  0.174740853421\n",
      "Accuracy:  0.93\n",
      "================ Epoch e =  80 ================\n",
      "train loss:  0.169193407963\n",
      "Accuracy:  0.93\n",
      "================ Epoch e =  90 ================\n",
      "train loss:  0.164874717633\n",
      "Accuracy:  0.93\n"
     ]
    },
    {
     "data": {
      "image/png": "[encoded data removed]",
      "text/plain": [
       "<matplotlib.figure.Figure at 0x11de3c2e8>"
      ]
     },
     "metadata": {},
     "output_type": "display_data"
    },
    {
     "data": {
      "image/png": "[encoded data removed]",
      "text/plain": [
       "<matplotlib.figure.Figure at 0x11daac198>"
      ]
     },
     "metadata": {},
     "output_type": "display_data"
    },
    {
     "data": {
      "image/png": "[encoded data removed]",
      "text/plain": [
       "<matplotlib.figure.Figure at 0x11d999c88>"
      ]
     },
     "metadata": {},
     "output_type": "display_data"
    }
   ],
   "source": [
    "train(X, y, epochs, learnrate, True)"
   ]
  },
  {
   "cell_type": "code",
   "execution_count": null,
   "metadata": {
    "nbpresent": {
     "id": "933f23e8-4d3d-4387-a0f2-bfd37a296771"
    }
   },
   "outputs": [],
   "source": []
  },
  {
   "cell_type": "code",
   "execution_count": null,
   "metadata": {},
   "outputs": [],
   "source": []
  }
 ],
 "metadata": {
  "kernelspec": {
   "display_name": "Python [default]",
   "language": "python",
   "name": "python3"
  },
  "language_info": {
   "codemirror_mode": {
    "name": "ipython",
    "version": 3
   },
   "file_extension": ".py",
   "mimetype": "text/x-python",
   "name": "python",
   "nbconvert_exporter": "python",
   "pygments_lexer": "ipython3",
   "version": "3.6.0"
  }
 },
 "nbformat": 4,
 "nbformat_minor": 2
}
